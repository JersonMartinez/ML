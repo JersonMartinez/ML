{
 "cells": [
  {
   "cell_type": "code",
   "execution_count": 1,
   "metadata": {
    "collapsed": true
   },
   "outputs": [],
   "source": [
    "import pandas as pd\n",
    "import numpy as np\n",
    "import matplotlib.pyplot as plt\n",
    "import seaborn as sns\n",
    "%matplotlib inline"
   ]
  },
  {
   "cell_type": "markdown",
   "metadata": {},
   "source": [
    "#  VARIABLES\n",
    "\n",
    "- **ID**  : Identificador\n",
    "- **MORA60**  : Indicador mora>60 días en el transcurso de un año luego de haberle otorgado el crédito\n",
    " (0:No tuvo mora 60, 1:Sí tuvo mora 60).\n",
    "- **VAR01**  : Número de días de atraso máximo durante los 12 meses antes de la aprobación del crédito.\n",
    "- **VAR02**  : Situación de la casa. (ALQUILADA,FAMILIAR,OTRAS,PROPIA)\n",
    "- **VAR03**  : Edad \n",
    "- **VAR04**  : Fecha ingreso al empleo.\n",
    "- **VAR05**  : Máxima antigüedad con Tarjeta de crédito en el Sistema Financiero (en meses).\n",
    "- **VAR06**  : Número de meses con algún producto Pasivo (ahorro) durante los 12 meses antes de la aprobación del crédito.\n",
    "- **VAR07**  : Ingreso mensual.\n",
    "- **VAR08**  : Monto de Línea de crédito Tarjeta de Crédito en el Sistema Financiero.\n",
    "- **VAR09**  : Monto de Saldo deudor promedio total en el Sistema Financiero.\n",
    "- **VAR10**  : Score con el que fue aprobada la Tarjeta de crédito en el Banco.\n",
    "- **VAR11**  : Número de veces con Abono de Pago de Haberes en el Banco durante los 12 meses antes de la aprobación del crédito.\n",
    "- **VAR12**  : Zona geográfica.\n",
    "- **VAR13**  : Máxima clasificación de Riesgos SBS  durante los 12 meses antes de la aprobación del crédito (0: Normal, 1:CPP,\n",
    "2:Deficiente, 3:Dudoso, 4:Pérdida).\n",
    "- **VAR14**  : Nivel educativo.\n"
   ]
  },
  {
   "cell_type": "code",
   "execution_count": 2,
   "metadata": {},
   "outputs": [
    {
     "data": {
      "text/html": [
       "<div>\n",
       "<style>\n",
       "    .dataframe thead tr:only-child th {\n",
       "        text-align: right;\n",
       "    }\n",
       "\n",
       "    .dataframe thead th {\n",
       "        text-align: left;\n",
       "    }\n",
       "\n",
       "    .dataframe tbody tr th {\n",
       "        vertical-align: top;\n",
       "    }\n",
       "</style>\n",
       "<table border=\"1\" class=\"dataframe\">\n",
       "  <thead>\n",
       "    <tr style=\"text-align: right;\">\n",
       "      <th></th>\n",
       "      <th>MORA60</th>\n",
       "      <th>DATRASO</th>\n",
       "      <th>SCASA</th>\n",
       "      <th>EDAD</th>\n",
       "      <th>FING</th>\n",
       "      <th>MAXANT</th>\n",
       "      <th>NMESES</th>\n",
       "      <th>INGREM</th>\n",
       "      <th>MONTOLC</th>\n",
       "      <th>MONTOSD</th>\n",
       "      <th>SCORE</th>\n",
       "      <th>NROPAGOAB</th>\n",
       "      <th>ZONA</th>\n",
       "      <th>CALIFSBS</th>\n",
       "      <th>NEDUCAT</th>\n",
       "    </tr>\n",
       "    <tr>\n",
       "      <th>ID</th>\n",
       "      <th></th>\n",
       "      <th></th>\n",
       "      <th></th>\n",
       "      <th></th>\n",
       "      <th></th>\n",
       "      <th></th>\n",
       "      <th></th>\n",
       "      <th></th>\n",
       "      <th></th>\n",
       "      <th></th>\n",
       "      <th></th>\n",
       "      <th></th>\n",
       "      <th></th>\n",
       "      <th></th>\n",
       "      <th></th>\n",
       "    </tr>\n",
       "  </thead>\n",
       "  <tbody>\n",
       "    <tr>\n",
       "      <th>1</th>\n",
       "      <td>0</td>\n",
       "      <td>235</td>\n",
       "      <td>FAMILIAR</td>\n",
       "      <td>30</td>\n",
       "      <td>2007-06-01</td>\n",
       "      <td>93</td>\n",
       "      <td>5</td>\n",
       "      <td>3500.0</td>\n",
       "      <td>0.00</td>\n",
       "      <td>0.00</td>\n",
       "      <td>214</td>\n",
       "      <td>5</td>\n",
       "      <td>Lima</td>\n",
       "      <td>4</td>\n",
       "      <td>PROFESIONAL</td>\n",
       "    </tr>\n",
       "    <tr>\n",
       "      <th>2</th>\n",
       "      <td>0</td>\n",
       "      <td>18</td>\n",
       "      <td>FAMILIAR</td>\n",
       "      <td>32</td>\n",
       "      <td>2005-02-01</td>\n",
       "      <td>9</td>\n",
       "      <td>12</td>\n",
       "      <td>900.0</td>\n",
       "      <td>1824.67</td>\n",
       "      <td>1933.75</td>\n",
       "      <td>175</td>\n",
       "      <td>12</td>\n",
       "      <td>La Libertad</td>\n",
       "      <td>1</td>\n",
       "      <td>TECNICO</td>\n",
       "    </tr>\n",
       "    <tr>\n",
       "      <th>3</th>\n",
       "      <td>0</td>\n",
       "      <td>0</td>\n",
       "      <td>FAMILIAR</td>\n",
       "      <td>26</td>\n",
       "      <td>2003-08-01</td>\n",
       "      <td>8</td>\n",
       "      <td>2</td>\n",
       "      <td>2400.0</td>\n",
       "      <td>2797.38</td>\n",
       "      <td>188.29</td>\n",
       "      <td>187</td>\n",
       "      <td>0</td>\n",
       "      <td>Lima</td>\n",
       "      <td>0</td>\n",
       "      <td>PROFESIONAL</td>\n",
       "    </tr>\n",
       "    <tr>\n",
       "      <th>4</th>\n",
       "      <td>0</td>\n",
       "      <td>0</td>\n",
       "      <td>FAMILIAR</td>\n",
       "      <td>36</td>\n",
       "      <td>2003-07-01</td>\n",
       "      <td>20</td>\n",
       "      <td>12</td>\n",
       "      <td>2700.0</td>\n",
       "      <td>0.00</td>\n",
       "      <td>0.00</td>\n",
       "      <td>187</td>\n",
       "      <td>12</td>\n",
       "      <td>Ancash</td>\n",
       "      <td>0</td>\n",
       "      <td>TECNICO</td>\n",
       "    </tr>\n",
       "    <tr>\n",
       "      <th>5</th>\n",
       "      <td>0</td>\n",
       "      <td>0</td>\n",
       "      <td>FAMILIAR</td>\n",
       "      <td>46</td>\n",
       "      <td>2006-11-01</td>\n",
       "      <td>0</td>\n",
       "      <td>1</td>\n",
       "      <td>3100.0</td>\n",
       "      <td>2000.00</td>\n",
       "      <td>11010.65</td>\n",
       "      <td>189</td>\n",
       "      <td>0</td>\n",
       "      <td>Lima</td>\n",
       "      <td>0</td>\n",
       "      <td>TECNICO</td>\n",
       "    </tr>\n",
       "  </tbody>\n",
       "</table>\n",
       "</div>"
      ],
      "text/plain": [
       "    MORA60  DATRASO     SCASA  EDAD       FING  MAXANT  NMESES  INGREM  \\\n",
       "ID                                                                       \n",
       "1        0      235  FAMILIAR    30 2007-06-01      93       5  3500.0   \n",
       "2        0       18  FAMILIAR    32 2005-02-01       9      12   900.0   \n",
       "3        0        0  FAMILIAR    26 2003-08-01       8       2  2400.0   \n",
       "4        0        0  FAMILIAR    36 2003-07-01      20      12  2700.0   \n",
       "5        0        0  FAMILIAR    46 2006-11-01       0       1  3100.0   \n",
       "\n",
       "    MONTOLC   MONTOSD  SCORE  NROPAGOAB         ZONA  CALIFSBS      NEDUCAT  \n",
       "ID                                                                           \n",
       "1      0.00      0.00    214          5         Lima         4  PROFESIONAL  \n",
       "2   1824.67   1933.75    175         12  La Libertad         1      TECNICO  \n",
       "3   2797.38    188.29    187          0         Lima         0  PROFESIONAL  \n",
       "4      0.00      0.00    187         12       Ancash         0      TECNICO  \n",
       "5   2000.00  11010.65    189          0         Lima         0      TECNICO  "
      ]
     },
     "execution_count": 2,
     "metadata": {},
     "output_type": "execute_result"
    }
   ],
   "source": [
    "ren_columns = ['MORA60','DATRASO', 'SCASA', 'EDAD', 'FING', 'MAXANT', \n",
    "               'NMESES', 'INGREM', 'MONTOLC', 'MONTOSD', 'SCORE', \n",
    "               'NROPAGOAB', 'ZONA', 'CALIFSBS', 'NEDUCAT']\n",
    "df = pd.read_excel('caso_TC.xlsx', index_col='ID')\n",
    "df.columns = ren_columns\n",
    "df.head()"
   ]
  },
  {
   "cell_type": "code",
   "execution_count": 3,
   "metadata": {},
   "outputs": [
    {
     "data": {
      "text/html": [
       "<div>\n",
       "<style>\n",
       "    .dataframe thead tr:only-child th {\n",
       "        text-align: right;\n",
       "    }\n",
       "\n",
       "    .dataframe thead th {\n",
       "        text-align: left;\n",
       "    }\n",
       "\n",
       "    .dataframe tbody tr th {\n",
       "        vertical-align: top;\n",
       "    }\n",
       "</style>\n",
       "<table border=\"1\" class=\"dataframe\">\n",
       "  <thead>\n",
       "    <tr style=\"text-align: right;\">\n",
       "      <th></th>\n",
       "      <th>MORA60</th>\n",
       "      <th>DATRASO</th>\n",
       "      <th>EDAD</th>\n",
       "      <th>MAXANT</th>\n",
       "      <th>NMESES</th>\n",
       "      <th>INGREM</th>\n",
       "      <th>MONTOLC</th>\n",
       "      <th>MONTOSD</th>\n",
       "      <th>SCORE</th>\n",
       "      <th>NROPAGOAB</th>\n",
       "      <th>CALIFSBS</th>\n",
       "    </tr>\n",
       "  </thead>\n",
       "  <tbody>\n",
       "    <tr>\n",
       "      <th>count</th>\n",
       "      <td>5000.000000</td>\n",
       "      <td>5000.00000</td>\n",
       "      <td>5000.000000</td>\n",
       "      <td>5000.000000</td>\n",
       "      <td>5000.000000</td>\n",
       "      <td>5000.000000</td>\n",
       "      <td>5000.000000</td>\n",
       "      <td>5000.000000</td>\n",
       "      <td>5000.000000</td>\n",
       "      <td>5000.00000</td>\n",
       "      <td>5000.000000</td>\n",
       "    </tr>\n",
       "    <tr>\n",
       "      <th>mean</th>\n",
       "      <td>0.700000</td>\n",
       "      <td>4.48080</td>\n",
       "      <td>36.429400</td>\n",
       "      <td>25.386000</td>\n",
       "      <td>10.571000</td>\n",
       "      <td>4373.572006</td>\n",
       "      <td>10236.736330</td>\n",
       "      <td>5732.438204</td>\n",
       "      <td>196.762400</td>\n",
       "      <td>7.90080</td>\n",
       "      <td>0.563600</td>\n",
       "    </tr>\n",
       "    <tr>\n",
       "      <th>std</th>\n",
       "      <td>0.458303</td>\n",
       "      <td>13.94524</td>\n",
       "      <td>9.787225</td>\n",
       "      <td>32.014265</td>\n",
       "      <td>3.396125</td>\n",
       "      <td>5393.520235</td>\n",
       "      <td>19853.871452</td>\n",
       "      <td>10869.692111</td>\n",
       "      <td>19.416316</td>\n",
       "      <td>5.27755</td>\n",
       "      <td>0.902728</td>\n",
       "    </tr>\n",
       "    <tr>\n",
       "      <th>min</th>\n",
       "      <td>0.000000</td>\n",
       "      <td>0.00000</td>\n",
       "      <td>20.000000</td>\n",
       "      <td>0.000000</td>\n",
       "      <td>0.000000</td>\n",
       "      <td>123.700000</td>\n",
       "      <td>0.000000</td>\n",
       "      <td>0.000000</td>\n",
       "      <td>134.000000</td>\n",
       "      <td>0.00000</td>\n",
       "      <td>0.000000</td>\n",
       "    </tr>\n",
       "    <tr>\n",
       "      <th>25%</th>\n",
       "      <td>0.000000</td>\n",
       "      <td>0.00000</td>\n",
       "      <td>29.000000</td>\n",
       "      <td>0.000000</td>\n",
       "      <td>12.000000</td>\n",
       "      <td>1400.000000</td>\n",
       "      <td>389.365000</td>\n",
       "      <td>283.605000</td>\n",
       "      <td>182.000000</td>\n",
       "      <td>0.00000</td>\n",
       "      <td>0.000000</td>\n",
       "    </tr>\n",
       "    <tr>\n",
       "      <th>50%</th>\n",
       "      <td>1.000000</td>\n",
       "      <td>0.00000</td>\n",
       "      <td>34.000000</td>\n",
       "      <td>12.000000</td>\n",
       "      <td>12.000000</td>\n",
       "      <td>2400.000000</td>\n",
       "      <td>2915.955000</td>\n",
       "      <td>2077.105000</td>\n",
       "      <td>197.000000</td>\n",
       "      <td>12.00000</td>\n",
       "      <td>0.000000</td>\n",
       "    </tr>\n",
       "    <tr>\n",
       "      <th>75%</th>\n",
       "      <td>1.000000</td>\n",
       "      <td>2.00000</td>\n",
       "      <td>42.000000</td>\n",
       "      <td>39.000000</td>\n",
       "      <td>12.000000</td>\n",
       "      <td>4900.000000</td>\n",
       "      <td>9763.387500</td>\n",
       "      <td>5384.220000</td>\n",
       "      <td>212.000000</td>\n",
       "      <td>12.00000</td>\n",
       "      <td>1.000000</td>\n",
       "    </tr>\n",
       "    <tr>\n",
       "      <th>max</th>\n",
       "      <td>1.000000</td>\n",
       "      <td>245.00000</td>\n",
       "      <td>85.000000</td>\n",
       "      <td>130.000000</td>\n",
       "      <td>12.000000</td>\n",
       "      <td>30000.000000</td>\n",
       "      <td>121543.400000</td>\n",
       "      <td>57094.380000</td>\n",
       "      <td>266.000000</td>\n",
       "      <td>12.00000</td>\n",
       "      <td>4.000000</td>\n",
       "    </tr>\n",
       "  </tbody>\n",
       "</table>\n",
       "</div>"
      ],
      "text/plain": [
       "            MORA60     DATRASO         EDAD       MAXANT       NMESES  \\\n",
       "count  5000.000000  5000.00000  5000.000000  5000.000000  5000.000000   \n",
       "mean      0.700000     4.48080    36.429400    25.386000    10.571000   \n",
       "std       0.458303    13.94524     9.787225    32.014265     3.396125   \n",
       "min       0.000000     0.00000    20.000000     0.000000     0.000000   \n",
       "25%       0.000000     0.00000    29.000000     0.000000    12.000000   \n",
       "50%       1.000000     0.00000    34.000000    12.000000    12.000000   \n",
       "75%       1.000000     2.00000    42.000000    39.000000    12.000000   \n",
       "max       1.000000   245.00000    85.000000   130.000000    12.000000   \n",
       "\n",
       "             INGREM        MONTOLC       MONTOSD        SCORE   NROPAGOAB  \\\n",
       "count   5000.000000    5000.000000   5000.000000  5000.000000  5000.00000   \n",
       "mean    4373.572006   10236.736330   5732.438204   196.762400     7.90080   \n",
       "std     5393.520235   19853.871452  10869.692111    19.416316     5.27755   \n",
       "min      123.700000       0.000000      0.000000   134.000000     0.00000   \n",
       "25%     1400.000000     389.365000    283.605000   182.000000     0.00000   \n",
       "50%     2400.000000    2915.955000   2077.105000   197.000000    12.00000   \n",
       "75%     4900.000000    9763.387500   5384.220000   212.000000    12.00000   \n",
       "max    30000.000000  121543.400000  57094.380000   266.000000    12.00000   \n",
       "\n",
       "          CALIFSBS  \n",
       "count  5000.000000  \n",
       "mean      0.563600  \n",
       "std       0.902728  \n",
       "min       0.000000  \n",
       "25%       0.000000  \n",
       "50%       0.000000  \n",
       "75%       1.000000  \n",
       "max       4.000000  "
      ]
     },
     "execution_count": 3,
     "metadata": {},
     "output_type": "execute_result"
    }
   ],
   "source": [
    "df.describe()"
   ]
  },
  {
   "cell_type": "code",
   "execution_count": 4,
   "metadata": {},
   "outputs": [
    {
     "name": "stdout",
     "output_type": "stream",
     "text": [
      "var : SCASA     type: object\n",
      "var : FING     type: datetime64[ns]\n",
      "var : ZONA     type: object\n",
      "var : NEDUCAT     type: object\n"
     ]
    }
   ],
   "source": [
    "for c in df.columns:\n",
    "    if (df[c].dtype) not in  ('int64', 'float64'):\n",
    "        print 'var : {}     type: {}'.format(c, df[c].dtype)"
   ]
  },
  {
   "cell_type": "markdown",
   "metadata": {},
   "source": [
    "# 1. Preprocessing\n",
    "## 1.1 Working with categorical variables"
   ]
  },
  {
   "cell_type": "code",
   "execution_count": 5,
   "metadata": {},
   "outputs": [
    {
     "data": {
      "image/png": "[encoded data removed]",
      "text/plain": [
       "<matplotlib.figure.Figure at 0xcaac6d8>"
      ]
     },
     "metadata": {},
     "output_type": "display_data"
    }
   ],
   "source": [
    "df['SCASA'].value_counts().plot(kind='barh');"
   ]
  },
  {
   "cell_type": "code",
   "execution_count": 6,
   "metadata": {},
   "outputs": [
    {
     "data": {
      "text/html": [
       "<div>\n",
       "<style>\n",
       "    .dataframe thead tr:only-child th {\n",
       "        text-align: right;\n",
       "    }\n",
       "\n",
       "    .dataframe thead th {\n",
       "        text-align: left;\n",
       "    }\n",
       "\n",
       "    .dataframe tbody tr th {\n",
       "        vertical-align: top;\n",
       "    }\n",
       "</style>\n",
       "<table border=\"1\" class=\"dataframe\">\n",
       "  <thead>\n",
       "    <tr style=\"text-align: right;\">\n",
       "      <th></th>\n",
       "      <th>SCASA_FAMILIAR</th>\n",
       "    </tr>\n",
       "    <tr>\n",
       "      <th>ID</th>\n",
       "      <th></th>\n",
       "    </tr>\n",
       "  </thead>\n",
       "  <tbody>\n",
       "    <tr>\n",
       "      <th>1</th>\n",
       "      <td>1</td>\n",
       "    </tr>\n",
       "    <tr>\n",
       "      <th>2</th>\n",
       "      <td>1</td>\n",
       "    </tr>\n",
       "    <tr>\n",
       "      <th>3</th>\n",
       "      <td>1</td>\n",
       "    </tr>\n",
       "    <tr>\n",
       "      <th>4</th>\n",
       "      <td>1</td>\n",
       "    </tr>\n",
       "    <tr>\n",
       "      <th>5</th>\n",
       "      <td>1</td>\n",
       "    </tr>\n",
       "  </tbody>\n",
       "</table>\n",
       "</div>"
      ],
      "text/plain": [
       "    SCASA_FAMILIAR\n",
       "ID                \n",
       "1                1\n",
       "2                1\n",
       "3                1\n",
       "4                1\n",
       "5                1"
      ]
     },
     "execution_count": 6,
     "metadata": {},
     "output_type": "execute_result"
    }
   ],
   "source": [
    "df['SCASA'] = df['SCASA'].apply(lambda x: x if x not in ['PROPIA', 'ALQUILADA', 'OTRAS'] else 'OTRAS')\n",
    "new_SCASA = pd.get_dummies(df['SCASA'], prefix='SCASA', prefix_sep='_')\n",
    "new_SCASA.drop('SCASA_OTRAS', inplace=True, axis=1)\n",
    "new_SCASA.head()"
   ]
  },
  {
   "cell_type": "code",
   "execution_count": 7,
   "metadata": {},
   "outputs": [
    {
     "data": {
      "image/png": "[encoded data removed]",
      "text/plain": [
       "<matplotlib.figure.Figure at 0x9ad5da0>"
      ]
     },
     "metadata": {},
     "output_type": "display_data"
    }
   ],
   "source": [
    "df['SCASA'].value_counts().plot(kind='barh');"
   ]
  },
  {
   "cell_type": "code",
   "execution_count": 8,
   "metadata": {
    "collapsed": true
   },
   "outputs": [],
   "source": [
    "import datetime as dtm\n",
    "curr = dtm.date(2017,10,11)\n",
    "FING = df['FING'].apply(lambda x: curr - dtm.date(x.year, x.month, x.day))\n",
    "FING = FING.apply(lambda x: round(x.days/30.))\n",
    "df['FING'] = FING"
   ]
  },
  {
   "cell_type": "code",
   "execution_count": 9,
   "metadata": {},
   "outputs": [
    {
     "data": {
      "image/png": "[encoded data removed]",
      "text/plain": [
       "<matplotlib.figure.Figure at 0xd8d6860>"
      ]
     },
     "metadata": {},
     "output_type": "display_data"
    }
   ],
   "source": [
    "f, ax = plt.subplots(figsize=(6,6));\n",
    "df['ZONA'].value_counts().plot(kind='barh');"
   ]
  },
  {
   "cell_type": "code",
   "execution_count": 10,
   "metadata": {},
   "outputs": [
    {
     "data": {
      "text/html": [
       "<div>\n",
       "<style>\n",
       "    .dataframe thead tr:only-child th {\n",
       "        text-align: right;\n",
       "    }\n",
       "\n",
       "    .dataframe thead th {\n",
       "        text-align: left;\n",
       "    }\n",
       "\n",
       "    .dataframe tbody tr th {\n",
       "        vertical-align: top;\n",
       "    }\n",
       "</style>\n",
       "<table border=\"1\" class=\"dataframe\">\n",
       "  <thead>\n",
       "    <tr style=\"text-align: right;\">\n",
       "      <th></th>\n",
       "      <th>ZONA_LIMA</th>\n",
       "    </tr>\n",
       "    <tr>\n",
       "      <th>ID</th>\n",
       "      <th></th>\n",
       "    </tr>\n",
       "  </thead>\n",
       "  <tbody>\n",
       "    <tr>\n",
       "      <th>1</th>\n",
       "      <td>1</td>\n",
       "    </tr>\n",
       "    <tr>\n",
       "      <th>2</th>\n",
       "      <td>0</td>\n",
       "    </tr>\n",
       "    <tr>\n",
       "      <th>3</th>\n",
       "      <td>1</td>\n",
       "    </tr>\n",
       "    <tr>\n",
       "      <th>4</th>\n",
       "      <td>0</td>\n",
       "    </tr>\n",
       "    <tr>\n",
       "      <th>5</th>\n",
       "      <td>1</td>\n",
       "    </tr>\n",
       "  </tbody>\n",
       "</table>\n",
       "</div>"
      ],
      "text/plain": [
       "    ZONA_LIMA\n",
       "ID           \n",
       "1           1\n",
       "2           0\n",
       "3           1\n",
       "4           0\n",
       "5           1"
      ]
     },
     "execution_count": 10,
     "metadata": {},
     "output_type": "execute_result"
    }
   ],
   "source": [
    "df['ZONA'] = df['ZONA'].apply(lambda x: x.upper() if x in ['Lima'] else 'PROVINCIA')\n",
    "new_ZONA = pd.get_dummies(df['ZONA'], prefix='ZONA', prefix_sep='_')\n",
    "new_ZONA.drop('ZONA_PROVINCIA', inplace=True, axis=1)\n",
    "new_ZONA.head()"
   ]
  },
  {
   "cell_type": "code",
   "execution_count": 11,
   "metadata": {},
   "outputs": [
    {
     "data": {
      "image/png": "[encoded data removed]",
      "text/plain": [
       "<matplotlib.figure.Figure at 0xcc84be0>"
      ]
     },
     "metadata": {},
     "output_type": "display_data"
    }
   ],
   "source": [
    "df['ZONA'].value_counts().plot(kind='barh');"
   ]
  },
  {
   "cell_type": "code",
   "execution_count": 12,
   "metadata": {},
   "outputs": [
    {
     "data": {
      "image/png": "[encoded data removed]",
      "text/plain": [
       "<matplotlib.figure.Figure at 0xdaa2ba8>"
      ]
     },
     "metadata": {},
     "output_type": "display_data"
    }
   ],
   "source": [
    "df['CALIFSBS'].value_counts().plot(kind='barh');"
   ]
  },
  {
   "cell_type": "code",
   "execution_count": 13,
   "metadata": {},
   "outputs": [
    {
     "data": {
      "text/html": [
       "<div>\n",
       "<style>\n",
       "    .dataframe thead tr:only-child th {\n",
       "        text-align: right;\n",
       "    }\n",
       "\n",
       "    .dataframe thead th {\n",
       "        text-align: left;\n",
       "    }\n",
       "\n",
       "    .dataframe tbody tr th {\n",
       "        vertical-align: top;\n",
       "    }\n",
       "</style>\n",
       "<table border=\"1\" class=\"dataframe\">\n",
       "  <thead>\n",
       "    <tr style=\"text-align: right;\">\n",
       "      <th></th>\n",
       "      <th>CALIFSBS_NORM</th>\n",
       "    </tr>\n",
       "    <tr>\n",
       "      <th>ID</th>\n",
       "      <th></th>\n",
       "    </tr>\n",
       "  </thead>\n",
       "  <tbody>\n",
       "    <tr>\n",
       "      <th>1</th>\n",
       "      <td>0</td>\n",
       "    </tr>\n",
       "    <tr>\n",
       "      <th>2</th>\n",
       "      <td>0</td>\n",
       "    </tr>\n",
       "    <tr>\n",
       "      <th>3</th>\n",
       "      <td>1</td>\n",
       "    </tr>\n",
       "    <tr>\n",
       "      <th>4</th>\n",
       "      <td>1</td>\n",
       "    </tr>\n",
       "    <tr>\n",
       "      <th>5</th>\n",
       "      <td>1</td>\n",
       "    </tr>\n",
       "  </tbody>\n",
       "</table>\n",
       "</div>"
      ],
      "text/plain": [
       "    CALIFSBS_NORM\n",
       "ID               \n",
       "1               0\n",
       "2               0\n",
       "3               1\n",
       "4               1\n",
       "5               1"
      ]
     },
     "execution_count": 13,
     "metadata": {},
     "output_type": "execute_result"
    }
   ],
   "source": [
    "df['CALIFSBS'] = df['CALIFSBS'].map(dict([(0, 'NORM'),\n",
    "                                         (1, 'OTRO'),\n",
    "                                         (2, 'OTRO'),\n",
    "                                         (3, 'OTRO'),\n",
    "                                         (4, 'OTRO')]))\n",
    "new_CALIFSBS = pd.get_dummies(df['CALIFSBS'], prefix='CALIFSBS', prefix_sep='_')\n",
    "new_CALIFSBS.drop('CALIFSBS_OTRO', inplace=True, axis=1)\n",
    "new_CALIFSBS.head()"
   ]
  },
  {
   "cell_type": "code",
   "execution_count": 14,
   "metadata": {},
   "outputs": [
    {
     "data": {
      "image/png": "[encoded data removed]",
      "text/plain": [
       "<matplotlib.figure.Figure at 0xd050908>"
      ]
     },
     "metadata": {},
     "output_type": "display_data"
    }
   ],
   "source": [
    "df['CALIFSBS'].value_counts().plot(kind='barh');"
   ]
  },
  {
   "cell_type": "code",
   "execution_count": 15,
   "metadata": {},
   "outputs": [
    {
     "data": {
      "image/png": "[encoded data removed]",
      "text/plain": [
       "<matplotlib.figure.Figure at 0xdae5f98>"
      ]
     },
     "metadata": {},
     "output_type": "display_data"
    }
   ],
   "source": [
    "df['NEDUCAT'].value_counts().plot(kind='barh');"
   ]
  },
  {
   "cell_type": "code",
   "execution_count": 16,
   "metadata": {},
   "outputs": [
    {
     "data": {
      "text/html": [
       "<div>\n",
       "<style>\n",
       "    .dataframe thead tr:only-child th {\n",
       "        text-align: right;\n",
       "    }\n",
       "\n",
       "    .dataframe thead th {\n",
       "        text-align: left;\n",
       "    }\n",
       "\n",
       "    .dataframe tbody tr th {\n",
       "        vertical-align: top;\n",
       "    }\n",
       "</style>\n",
       "<table border=\"1\" class=\"dataframe\">\n",
       "  <thead>\n",
       "    <tr style=\"text-align: right;\">\n",
       "      <th></th>\n",
       "      <th>NEDUCAT_PROFESIONAL</th>\n",
       "    </tr>\n",
       "    <tr>\n",
       "      <th>ID</th>\n",
       "      <th></th>\n",
       "    </tr>\n",
       "  </thead>\n",
       "  <tbody>\n",
       "    <tr>\n",
       "      <th>1</th>\n",
       "      <td>1</td>\n",
       "    </tr>\n",
       "    <tr>\n",
       "      <th>2</th>\n",
       "      <td>0</td>\n",
       "    </tr>\n",
       "    <tr>\n",
       "      <th>3</th>\n",
       "      <td>1</td>\n",
       "    </tr>\n",
       "    <tr>\n",
       "      <th>4</th>\n",
       "      <td>0</td>\n",
       "    </tr>\n",
       "    <tr>\n",
       "      <th>5</th>\n",
       "      <td>0</td>\n",
       "    </tr>\n",
       "  </tbody>\n",
       "</table>\n",
       "</div>"
      ],
      "text/plain": [
       "    NEDUCAT_PROFESIONAL\n",
       "ID                     \n",
       "1                     1\n",
       "2                     0\n",
       "3                     1\n",
       "4                     0\n",
       "5                     0"
      ]
     },
     "execution_count": 16,
     "metadata": {},
     "output_type": "execute_result"
    }
   ],
   "source": [
    "df['NEDUCAT'] = df['NEDUCAT'].apply(lambda x: x if x in ['PROFESIONAL'] else 'OTRO')\n",
    "new_NEDUCAT = pd.get_dummies(df['NEDUCAT'], prefix='NEDUCAT', prefix_sep='_')\n",
    "new_NEDUCAT.drop('NEDUCAT_OTRO', inplace=True, axis=1)\n",
    "new_NEDUCAT.head()"
   ]
  },
  {
   "cell_type": "code",
   "execution_count": 17,
   "metadata": {},
   "outputs": [
    {
     "data": {
      "image/png": "[encoded data removed]",
      "text/plain": [
       "<matplotlib.figure.Figure at 0xdb23630>"
      ]
     },
     "metadata": {},
     "output_type": "display_data"
    }
   ],
   "source": [
    "df['NEDUCAT'].value_counts().plot(kind='barh');"
   ]
  },
  {
   "cell_type": "markdown",
   "metadata": {},
   "source": [
    "## 1.2 Dataframe with numeric variables"
   ]
  },
  {
   "cell_type": "code",
   "execution_count": 128,
   "metadata": {
    "collapsed": true
   },
   "outputs": [],
   "source": [
    "data = pd.concat([df, new_SCASA, new_ZONA, new_CALIFSBS, new_NEDUCAT], axis=1)\n",
    "data.drop(['SCASA', 'ZONA', 'CALIFSBS', 'NEDUCAT'], axis=1, inplace=True)"
   ]
  },
  {
   "cell_type": "code",
   "execution_count": 85,
   "metadata": {},
   "outputs": [
    {
     "data": {
      "text/html": [
       "<div>\n",
       "<style>\n",
       "    .dataframe thead tr:only-child th {\n",
       "        text-align: right;\n",
       "    }\n",
       "\n",
       "    .dataframe thead th {\n",
       "        text-align: left;\n",
       "    }\n",
       "\n",
       "    .dataframe tbody tr th {\n",
       "        vertical-align: top;\n",
       "    }\n",
       "</style>\n",
       "<table border=\"1\" class=\"dataframe\">\n",
       "  <thead>\n",
       "    <tr style=\"text-align: right;\">\n",
       "      <th></th>\n",
       "      <th>MORA60</th>\n",
       "      <th>DATRASO</th>\n",
       "      <th>EDAD</th>\n",
       "      <th>FING</th>\n",
       "      <th>MAXANT</th>\n",
       "      <th>NMESES</th>\n",
       "      <th>INGREM</th>\n",
       "      <th>MONTOLC</th>\n",
       "      <th>MONTOSD</th>\n",
       "      <th>SCORE</th>\n",
       "      <th>NROPAGOAB</th>\n",
       "      <th>SCASA_FAMILIAR</th>\n",
       "      <th>ZONA_LIMA</th>\n",
       "      <th>CALIFSBS_NORM</th>\n",
       "      <th>NEDUCAT_PROFESIONAL</th>\n",
       "    </tr>\n",
       "    <tr>\n",
       "      <th>ID</th>\n",
       "      <th></th>\n",
       "      <th></th>\n",
       "      <th></th>\n",
       "      <th></th>\n",
       "      <th></th>\n",
       "      <th></th>\n",
       "      <th></th>\n",
       "      <th></th>\n",
       "      <th></th>\n",
       "      <th></th>\n",
       "      <th></th>\n",
       "      <th></th>\n",
       "      <th></th>\n",
       "      <th></th>\n",
       "      <th></th>\n",
       "    </tr>\n",
       "  </thead>\n",
       "  <tbody>\n",
       "    <tr>\n",
       "      <th>1</th>\n",
       "      <td>0</td>\n",
       "      <td>235</td>\n",
       "      <td>30</td>\n",
       "      <td>126.0</td>\n",
       "      <td>93</td>\n",
       "      <td>5</td>\n",
       "      <td>3500.0</td>\n",
       "      <td>0.00</td>\n",
       "      <td>0.00</td>\n",
       "      <td>214</td>\n",
       "      <td>5</td>\n",
       "      <td>1</td>\n",
       "      <td>1</td>\n",
       "      <td>0</td>\n",
       "      <td>1</td>\n",
       "    </tr>\n",
       "    <tr>\n",
       "      <th>2</th>\n",
       "      <td>0</td>\n",
       "      <td>18</td>\n",
       "      <td>32</td>\n",
       "      <td>155.0</td>\n",
       "      <td>9</td>\n",
       "      <td>12</td>\n",
       "      <td>900.0</td>\n",
       "      <td>1824.67</td>\n",
       "      <td>1933.75</td>\n",
       "      <td>175</td>\n",
       "      <td>12</td>\n",
       "      <td>1</td>\n",
       "      <td>0</td>\n",
       "      <td>0</td>\n",
       "      <td>0</td>\n",
       "    </tr>\n",
       "    <tr>\n",
       "      <th>3</th>\n",
       "      <td>0</td>\n",
       "      <td>0</td>\n",
       "      <td>26</td>\n",
       "      <td>173.0</td>\n",
       "      <td>8</td>\n",
       "      <td>2</td>\n",
       "      <td>2400.0</td>\n",
       "      <td>2797.38</td>\n",
       "      <td>188.29</td>\n",
       "      <td>187</td>\n",
       "      <td>0</td>\n",
       "      <td>1</td>\n",
       "      <td>1</td>\n",
       "      <td>1</td>\n",
       "      <td>1</td>\n",
       "    </tr>\n",
       "    <tr>\n",
       "      <th>4</th>\n",
       "      <td>0</td>\n",
       "      <td>0</td>\n",
       "      <td>36</td>\n",
       "      <td>174.0</td>\n",
       "      <td>20</td>\n",
       "      <td>12</td>\n",
       "      <td>2700.0</td>\n",
       "      <td>0.00</td>\n",
       "      <td>0.00</td>\n",
       "      <td>187</td>\n",
       "      <td>12</td>\n",
       "      <td>1</td>\n",
       "      <td>0</td>\n",
       "      <td>1</td>\n",
       "      <td>0</td>\n",
       "    </tr>\n",
       "    <tr>\n",
       "      <th>5</th>\n",
       "      <td>0</td>\n",
       "      <td>0</td>\n",
       "      <td>46</td>\n",
       "      <td>133.0</td>\n",
       "      <td>0</td>\n",
       "      <td>1</td>\n",
       "      <td>3100.0</td>\n",
       "      <td>2000.00</td>\n",
       "      <td>11010.65</td>\n",
       "      <td>189</td>\n",
       "      <td>0</td>\n",
       "      <td>1</td>\n",
       "      <td>1</td>\n",
       "      <td>1</td>\n",
       "      <td>0</td>\n",
       "    </tr>\n",
       "  </tbody>\n",
       "</table>\n",
       "</div>"
      ],
      "text/plain": [
       "    MORA60  DATRASO  EDAD   FING  MAXANT  NMESES  INGREM  MONTOLC   MONTOSD  \\\n",
       "ID                                                                            \n",
       "1        0      235    30  126.0      93       5  3500.0     0.00      0.00   \n",
       "2        0       18    32  155.0       9      12   900.0  1824.67   1933.75   \n",
       "3        0        0    26  173.0       8       2  2400.0  2797.38    188.29   \n",
       "4        0        0    36  174.0      20      12  2700.0     0.00      0.00   \n",
       "5        0        0    46  133.0       0       1  3100.0  2000.00  11010.65   \n",
       "\n",
       "    SCORE  NROPAGOAB  SCASA_FAMILIAR  ZONA_LIMA  CALIFSBS_NORM  \\\n",
       "ID                                                               \n",
       "1     214          5               1          1              0   \n",
       "2     175         12               1          0              0   \n",
       "3     187          0               1          1              1   \n",
       "4     187         12               1          0              1   \n",
       "5     189          0               1          1              1   \n",
       "\n",
       "    NEDUCAT_PROFESIONAL  \n",
       "ID                       \n",
       "1                     1  \n",
       "2                     0  \n",
       "3                     1  \n",
       "4                     0  \n",
       "5                     0  "
      ]
     },
     "execution_count": 85,
     "metadata": {},
     "output_type": "execute_result"
    }
   ],
   "source": [
    "data.head()"
   ]
  },
  {
   "cell_type": "code",
   "execution_count": 129,
   "metadata": {
    "collapsed": true
   },
   "outputs": [],
   "source": [
    "x = data.drop(['MORA60'], axis=1)\n",
    "y = data['MORA60']"
   ]
  },
  {
   "cell_type": "markdown",
   "metadata": {},
   "source": [
    "## 1.3 Explore the data"
   ]
  },
  {
   "cell_type": "code",
   "execution_count": 88,
   "metadata": {},
   "outputs": [
    {
     "data": {
      "image/png": "[encoded data removed]",
      "text/plain": [
       "<matplotlib.figure.Figure at 0x10368320>"
      ]
     },
     "metadata": {},
     "output_type": "display_data"
    }
   ],
   "source": [
    "x.hist(figsize=(15,12));\n",
    "plt.savefig('explore01');"
   ]
  },
  {
   "cell_type": "code",
   "execution_count": 22,
   "metadata": {},
   "outputs": [
    {
     "data": {
      "image/png": "[encoded data removed]",
      "text/plain": [
       "<matplotlib.figure.Figure at 0xeea58d0>"
      ]
     },
     "metadata": {},
     "output_type": "display_data"
    }
   ],
   "source": [
    "f, ax = plt.subplots(figsize=(10, 8))\n",
    "corr = data.corr()\n",
    "sns.heatmap(corr);\n",
    "plt.savefig('explore02.jpg')"
   ]
  },
  {
   "cell_type": "markdown",
   "metadata": {},
   "source": [
    "## Select the best clasificator"
   ]
  },
  {
   "cell_type": "code",
   "execution_count": 89,
   "metadata": {
    "collapsed": true
   },
   "outputs": [],
   "source": [
    "from sklearn import cross_validation\n",
    "from xgboost import XGBClassifier\n",
    "from sklearn.ensemble import AdaBoostClassifier\n",
    "from sklearn.ensemble import GradientBoostingClassifier\n",
    "from sklearn.ensemble import RandomForestClassifier\n",
    "from sklearn.ensemble import ExtraTreesClassifier\n",
    "import warnings\n",
    "warnings.filterwarnings('ignore')"
   ]
  },
  {
   "cell_type": "code",
   "execution_count": 130,
   "metadata": {
    "collapsed": true
   },
   "outputs": [],
   "source": [
    "x_train, x_test, y_train, y_test = cross_validation.train_test_split(x, y, test_size=0.2, random_state=42)"
   ]
  },
  {
   "cell_type": "code",
   "execution_count": 132,
   "metadata": {},
   "outputs": [
    {
     "data": {
      "text/html": [
       "<div>\n",
       "<style>\n",
       "    .dataframe thead tr:only-child th {\n",
       "        text-align: right;\n",
       "    }\n",
       "\n",
       "    .dataframe thead th {\n",
       "        text-align: left;\n",
       "    }\n",
       "\n",
       "    .dataframe tbody tr th {\n",
       "        vertical-align: top;\n",
       "    }\n",
       "</style>\n",
       "<table border=\"1\" class=\"dataframe\">\n",
       "  <thead>\n",
       "    <tr style=\"text-align: right;\">\n",
       "      <th></th>\n",
       "      <th>DATRASO</th>\n",
       "      <th>EDAD</th>\n",
       "      <th>FING</th>\n",
       "      <th>MAXANT</th>\n",
       "      <th>NMESES</th>\n",
       "      <th>INGREM</th>\n",
       "      <th>MONTOLC</th>\n",
       "      <th>MONTOSD</th>\n",
       "      <th>SCORE</th>\n",
       "      <th>NROPAGOAB</th>\n",
       "      <th>SCASA_FAMILIAR</th>\n",
       "      <th>ZONA_LIMA</th>\n",
       "      <th>CALIFSBS_NORM</th>\n",
       "      <th>NEDUCAT_PROFESIONAL</th>\n",
       "    </tr>\n",
       "    <tr>\n",
       "      <th>ID</th>\n",
       "      <th></th>\n",
       "      <th></th>\n",
       "      <th></th>\n",
       "      <th></th>\n",
       "      <th></th>\n",
       "      <th></th>\n",
       "      <th></th>\n",
       "      <th></th>\n",
       "      <th></th>\n",
       "      <th></th>\n",
       "      <th></th>\n",
       "      <th></th>\n",
       "      <th></th>\n",
       "      <th></th>\n",
       "    </tr>\n",
       "  </thead>\n",
       "  <tbody>\n",
       "    <tr>\n",
       "      <th>1502</th>\n",
       "      <td>238</td>\n",
       "      <td>40</td>\n",
       "      <td>156.0</td>\n",
       "      <td>17</td>\n",
       "      <td>0</td>\n",
       "      <td>10000.00</td>\n",
       "      <td>25526.76</td>\n",
       "      <td>25526.76</td>\n",
       "      <td>185</td>\n",
       "      <td>0</td>\n",
       "      <td>1</td>\n",
       "      <td>1</td>\n",
       "      <td>0</td>\n",
       "      <td>1</td>\n",
       "    </tr>\n",
       "    <tr>\n",
       "      <th>2587</th>\n",
       "      <td>0</td>\n",
       "      <td>38</td>\n",
       "      <td>264.0</td>\n",
       "      <td>0</td>\n",
       "      <td>3</td>\n",
       "      <td>3905.00</td>\n",
       "      <td>30689.94</td>\n",
       "      <td>249.43</td>\n",
       "      <td>185</td>\n",
       "      <td>0</td>\n",
       "      <td>1</td>\n",
       "      <td>1</td>\n",
       "      <td>0</td>\n",
       "      <td>0</td>\n",
       "    </tr>\n",
       "    <tr>\n",
       "      <th>2654</th>\n",
       "      <td>0</td>\n",
       "      <td>23</td>\n",
       "      <td>134.0</td>\n",
       "      <td>0</td>\n",
       "      <td>12</td>\n",
       "      <td>932.46</td>\n",
       "      <td>0.00</td>\n",
       "      <td>1345.86</td>\n",
       "      <td>175</td>\n",
       "      <td>12</td>\n",
       "      <td>0</td>\n",
       "      <td>1</td>\n",
       "      <td>1</td>\n",
       "      <td>0</td>\n",
       "    </tr>\n",
       "    <tr>\n",
       "      <th>1056</th>\n",
       "      <td>0</td>\n",
       "      <td>41</td>\n",
       "      <td>175.0</td>\n",
       "      <td>88</td>\n",
       "      <td>12</td>\n",
       "      <td>8500.00</td>\n",
       "      <td>2499.46</td>\n",
       "      <td>421.59</td>\n",
       "      <td>205</td>\n",
       "      <td>12</td>\n",
       "      <td>1</td>\n",
       "      <td>1</td>\n",
       "      <td>1</td>\n",
       "      <td>1</td>\n",
       "    </tr>\n",
       "    <tr>\n",
       "      <th>706</th>\n",
       "      <td>0</td>\n",
       "      <td>30</td>\n",
       "      <td>143.0</td>\n",
       "      <td>28</td>\n",
       "      <td>11</td>\n",
       "      <td>5500.00</td>\n",
       "      <td>15885.49</td>\n",
       "      <td>3838.74</td>\n",
       "      <td>219</td>\n",
       "      <td>8</td>\n",
       "      <td>1</td>\n",
       "      <td>1</td>\n",
       "      <td>0</td>\n",
       "      <td>1</td>\n",
       "    </tr>\n",
       "  </tbody>\n",
       "</table>\n",
       "</div>"
      ],
      "text/plain": [
       "      DATRASO  EDAD   FING  MAXANT  NMESES    INGREM   MONTOLC   MONTOSD  \\\n",
       "ID                                                                         \n",
       "1502      238    40  156.0      17       0  10000.00  25526.76  25526.76   \n",
       "2587        0    38  264.0       0       3   3905.00  30689.94    249.43   \n",
       "2654        0    23  134.0       0      12    932.46      0.00   1345.86   \n",
       "1056        0    41  175.0      88      12   8500.00   2499.46    421.59   \n",
       "706         0    30  143.0      28      11   5500.00  15885.49   3838.74   \n",
       "\n",
       "      SCORE  NROPAGOAB  SCASA_FAMILIAR  ZONA_LIMA  CALIFSBS_NORM  \\\n",
       "ID                                                                 \n",
       "1502    185          0               1          1              0   \n",
       "2587    185          0               1          1              0   \n",
       "2654    175         12               0          1              1   \n",
       "1056    205         12               1          1              1   \n",
       "706     219          8               1          1              0   \n",
       "\n",
       "      NEDUCAT_PROFESIONAL  \n",
       "ID                         \n",
       "1502                    1  \n",
       "2587                    0  \n",
       "2654                    0  \n",
       "1056                    1  \n",
       "706                     1  "
      ]
     },
     "execution_count": 132,
     "metadata": {},
     "output_type": "execute_result"
    }
   ],
   "source": [
    "x_test.head()"
   ]
  },
  {
   "cell_type": "code",
   "execution_count": 91,
   "metadata": {},
   "outputs": [
    {
     "name": "stdout",
     "output_type": "stream",
     "text": [
      "XG: 0.738010 (0.032391)\n",
      "AB: 0.729112 (0.037477)\n",
      "GBM: 0.738793 (0.036593)\n",
      "RF: 0.692746 (0.036609)\n",
      "ET: 0.674812 (0.049575)\n"
     ]
    }
   ],
   "source": [
    "ensembles = []\n",
    "ensembles.append(('XG', XGBClassifier()))\n",
    "ensembles.append(('AB', AdaBoostClassifier()))\n",
    "ensembles.append(('GBM', GradientBoostingClassifier()))\n",
    "ensembles.append(('RF', RandomForestClassifier()))\n",
    "ensembles.append(('ET', ExtraTreesClassifier()))\n",
    "\n",
    "results = []\n",
    "names = []\n",
    "for name, model in ensembles:\n",
    "    skf = cross_validation.StratifiedKFold(y_train, 10, random_state=42)\n",
    "    cv_results = cross_validation.cross_val_score(model, x_train, y_train, cv=skf,\n",
    "                                                  scoring='roc_auc')\n",
    "    results.append(cv_results)\n",
    "    names.append(name)\n",
    "    msg = \"%s: %f (%f)\" % (name, cv_results.mean(), cv_results.std())\n",
    "    print(msg)"
   ]
  },
  {
   "cell_type": "code",
   "execution_count": 92,
   "metadata": {},
   "outputs": [
    {
     "data": {
      "image/png": "[encoded data removed]",
      "text/plain": [
       "<matplotlib.figure.Figure at 0xe291c88>"
      ]
     },
     "metadata": {},
     "output_type": "display_data"
    }
   ],
   "source": [
    "with plt.style.context(('seaborn-whitegrid')):\n",
    "    f, ax = plt.subplots(figsize=(10, 8))\n",
    "    b = plt.boxplot(results, patch_artist=True);\n",
    "    ax.set_xticklabels(names, fontsize=12);\n",
    "    plt.ylabel('AUC SCORE')\n",
    "    \n",
    "    colors = ['#03D1AB']*5\n",
    "    for patch, color in zip(b['boxes'], colors):\n",
    "            patch.set_facecolor(color)\n"
   ]
  },
  {
   "cell_type": "code",
   "execution_count": 225,
   "metadata": {},
   "outputs": [
    {
     "name": "stdout",
     "output_type": "stream",
     "text": [
      "[u'seaborn-darkgrid', u'seaborn-notebook', u'classic', u'seaborn-ticks', u'grayscale', u'bmh', u'seaborn-talk', u'dark_background', u'ggplot', u'fivethirtyeight', u'_classic_test', u'seaborn-colorblind', u'seaborn-deep', u'seaborn-whitegrid', u'seaborn-bright', u'seaborn-poster', u'seaborn-muted', u'seaborn-paper', u'seaborn-white', u'seaborn-pastel', u'seaborn-dark', u'seaborn', u'seaborn-dark-palette']\n"
     ]
    }
   ],
   "source": [
    "print(plt.style.available)"
   ]
  },
  {
   "cell_type": "code",
   "execution_count": 93,
   "metadata": {
    "collapsed": true
   },
   "outputs": [],
   "source": [
    "# Select model\n",
    "\n",
    "model = GradientBoostingClassifier()\n",
    "model.fit(x_train, y_train)\n",
    "y_pred = model.predict_proba(x_test)\n",
    "\n",
    "yn = pd.DataFrame(y_test)\n",
    "yn['MORA_PRED'] = y_pred[:,1]\n",
    "r = yn.sort_values(['MORA_PRED'], ascending=True)\n",
    "pred_ord = yn.sort_values(['MORA_PRED'], ascending=True)\n",
    "rango_deciles = pd.qcut(pred_ord['MORA_PRED'], 10)\n",
    "grupos = yn.groupby(rango_deciles)['MORA60'].agg([sum, len, np.mean])"
   ]
  },
  {
   "cell_type": "code",
   "execution_count": 94,
   "metadata": {},
   "outputs": [
    {
     "data": {
      "image/png": "[encoded data removed]",
      "text/plain": [
       "<matplotlib.figure.Figure at 0xd820be0>"
      ]
     },
     "metadata": {},
     "output_type": "display_data"
    }
   ],
   "source": [
    "#PLOT LIFT CURVE\n",
    "\n",
    "my_colors = [(x/10.0, x/20.0, 0.4) for x in range(10)]\n",
    "f, ax = plt.subplots(figsize=(8, 6))\n",
    "grupos['sum'].groupby([grupos.index]).sum().plot(kind='bar', color=my_colors);\n",
    "plt.ylabel('MORA RATE');\n",
    "plt.title('LIFT CHART')\n",
    "\n",
    "for tick in ax.get_xticklabels():\n",
    "        tick.set_rotation(-45)\n",
    "plt.savefig('analysis02.png');"
   ]
  },
  {
   "cell_type": "code",
   "execution_count": 95,
   "metadata": {},
   "outputs": [
    {
     "data": {
      "text/html": [
       "<div>\n",
       "<style>\n",
       "    .dataframe thead tr:only-child th {\n",
       "        text-align: right;\n",
       "    }\n",
       "\n",
       "    .dataframe thead th {\n",
       "        text-align: left;\n",
       "    }\n",
       "\n",
       "    .dataframe tbody tr th {\n",
       "        vertical-align: top;\n",
       "    }\n",
       "</style>\n",
       "<table border=\"1\" class=\"dataframe\">\n",
       "  <thead>\n",
       "    <tr style=\"text-align: right;\">\n",
       "      <th></th>\n",
       "      <th>sum</th>\n",
       "      <th>len</th>\n",
       "      <th>mean</th>\n",
       "    </tr>\n",
       "    <tr>\n",
       "      <th>MORA_PRED</th>\n",
       "      <th></th>\n",
       "      <th></th>\n",
       "      <th></th>\n",
       "    </tr>\n",
       "  </thead>\n",
       "  <tbody>\n",
       "    <tr>\n",
       "      <th>(0.0893, 0.411]</th>\n",
       "      <td>32</td>\n",
       "      <td>100</td>\n",
       "      <td>0.32</td>\n",
       "    </tr>\n",
       "    <tr>\n",
       "      <th>(0.411, 0.535]</th>\n",
       "      <td>51</td>\n",
       "      <td>100</td>\n",
       "      <td>0.51</td>\n",
       "    </tr>\n",
       "    <tr>\n",
       "      <th>(0.535, 0.64]</th>\n",
       "      <td>52</td>\n",
       "      <td>100</td>\n",
       "      <td>0.52</td>\n",
       "    </tr>\n",
       "    <tr>\n",
       "      <th>(0.64, 0.705]</th>\n",
       "      <td>70</td>\n",
       "      <td>100</td>\n",
       "      <td>0.70</td>\n",
       "    </tr>\n",
       "    <tr>\n",
       "      <th>(0.705, 0.763]</th>\n",
       "      <td>69</td>\n",
       "      <td>100</td>\n",
       "      <td>0.69</td>\n",
       "    </tr>\n",
       "    <tr>\n",
       "      <th>(0.763, 0.796]</th>\n",
       "      <td>74</td>\n",
       "      <td>100</td>\n",
       "      <td>0.74</td>\n",
       "    </tr>\n",
       "    <tr>\n",
       "      <th>(0.796, 0.827]</th>\n",
       "      <td>79</td>\n",
       "      <td>100</td>\n",
       "      <td>0.79</td>\n",
       "    </tr>\n",
       "    <tr>\n",
       "      <th>(0.827, 0.861]</th>\n",
       "      <td>77</td>\n",
       "      <td>100</td>\n",
       "      <td>0.77</td>\n",
       "    </tr>\n",
       "    <tr>\n",
       "      <th>(0.861, 0.896]</th>\n",
       "      <td>87</td>\n",
       "      <td>100</td>\n",
       "      <td>0.87</td>\n",
       "    </tr>\n",
       "    <tr>\n",
       "      <th>(0.896, 0.976]</th>\n",
       "      <td>88</td>\n",
       "      <td>100</td>\n",
       "      <td>0.88</td>\n",
       "    </tr>\n",
       "  </tbody>\n",
       "</table>\n",
       "</div>"
      ],
      "text/plain": [
       "                 sum  len  mean\n",
       "MORA_PRED                      \n",
       "(0.0893, 0.411]   32  100  0.32\n",
       "(0.411, 0.535]    51  100  0.51\n",
       "(0.535, 0.64]     52  100  0.52\n",
       "(0.64, 0.705]     70  100  0.70\n",
       "(0.705, 0.763]    69  100  0.69\n",
       "(0.763, 0.796]    74  100  0.74\n",
       "(0.796, 0.827]    79  100  0.79\n",
       "(0.827, 0.861]    77  100  0.77\n",
       "(0.861, 0.896]    87  100  0.87\n",
       "(0.896, 0.976]    88  100  0.88"
      ]
     },
     "execution_count": 95,
     "metadata": {},
     "output_type": "execute_result"
    }
   ],
   "source": [
    "grupos"
   ]
  },
  {
   "cell_type": "code",
   "execution_count": 366,
   "metadata": {},
   "outputs": [
    {
     "data": {
      "text/plain": [
       "GradientBoostingClassifier(criterion='friedman_mse', init=None,\n",
       "              learning_rate=0.1, loss='deviance', max_depth=3,\n",
       "              max_features=None, max_leaf_nodes=None,\n",
       "              min_impurity_split=1e-07, min_samples_leaf=1,\n",
       "              min_samples_split=2, min_weight_fraction_leaf=0.0,\n",
       "              n_estimators=100, presort='auto', random_state=None,\n",
       "              subsample=1.0, verbose=0, warm_start=False)"
      ]
     },
     "execution_count": 366,
     "metadata": {},
     "output_type": "execute_result"
    }
   ],
   "source": [
    "model"
   ]
  },
  {
   "cell_type": "markdown",
   "metadata": {},
   "source": [
    "## Tuning parameters"
   ]
  },
  {
   "cell_type": "code",
   "execution_count": 367,
   "metadata": {},
   "outputs": [
    {
     "name": "stdout",
     "output_type": "stream",
     "text": [
      "Best: 0.741310 using {'n_estimators': 500, 'learning_rate': 0.01}\n",
      "0.669740 (0.042328) with: {'n_estimators': 100, 'learning_rate': 0.0001}\n",
      "0.672092 (0.040083) with: {'n_estimators': 200, 'learning_rate': 0.0001}\n",
      "0.674560 (0.041022) with: {'n_estimators': 300, 'learning_rate': 0.0001}\n",
      "0.679957 (0.045565) with: {'n_estimators': 400, 'learning_rate': 0.0001}\n",
      "0.680457 (0.047032) with: {'n_estimators': 500, 'learning_rate': 0.0001}\n",
      "0.689497 (0.045341) with: {'n_estimators': 100, 'learning_rate': 0.001}\n",
      "0.701282 (0.045470) with: {'n_estimators': 200, 'learning_rate': 0.001}\n",
      "0.708181 (0.042801) with: {'n_estimators': 300, 'learning_rate': 0.001}\n",
      "0.711441 (0.042263) with: {'n_estimators': 400, 'learning_rate': 0.001}\n",
      "0.714516 (0.041733) with: {'n_estimators': 500, 'learning_rate': 0.001}\n",
      "0.720964 (0.038840) with: {'n_estimators': 100, 'learning_rate': 0.01}\n",
      "0.731802 (0.036638) with: {'n_estimators': 200, 'learning_rate': 0.01}\n",
      "0.736758 (0.036047) with: {'n_estimators': 300, 'learning_rate': 0.01}\n",
      "0.739637 (0.036462) with: {'n_estimators': 400, 'learning_rate': 0.01}\n",
      "0.741300 (0.036100) with: {'n_estimators': 500, 'learning_rate': 0.01}\n",
      "0.738832 (0.036441) with: {'n_estimators': 100, 'learning_rate': 0.1}\n",
      "0.734604 (0.034636) with: {'n_estimators': 200, 'learning_rate': 0.1}\n",
      "0.728718 (0.033957) with: {'n_estimators': 300, 'learning_rate': 0.1}\n",
      "0.722381 (0.036192) with: {'n_estimators': 400, 'learning_rate': 0.1}\n",
      "0.719607 (0.033777) with: {'n_estimators': 500, 'learning_rate': 0.1}\n"
     ]
    }
   ],
   "source": [
    "n_estimators = [100, 200, 300, 400, 500]\n",
    "learning_rate = [0.0001, 0.001, 0.01, 0.1]\n",
    "param_grid = dict(learning_rate=learning_rate, n_estimators=n_estimators)\n",
    "\n",
    "grid = GridSearchCV(estimator=model, param_grid=param_grid, scoring='roc_auc', cv=skf)\n",
    "grid_result = grid.fit(x_train, y_train)\n",
    "\n",
    "print(\"Best: %f using %s\" % (grid_result.best_score_, grid_result.best_params_))\n",
    "for params, mean_score, scores in grid_result.grid_scores_:\n",
    "    print(\"%f (%f) with: %r\" % (scores.mean(), scores.std(), params))"
   ]
  },
  {
   "cell_type": "code",
   "execution_count": 368,
   "metadata": {},
   "outputs": [
    {
     "name": "stdout",
     "output_type": "stream",
     "text": [
      "Best: 0.741282 using {'max_depth': 3}\n",
      "0.741273 (0.036046) with: {'max_depth': 3}\n",
      "0.736019 (0.036437) with: {'max_depth': 5}\n",
      "0.730494 (0.035880) with: {'max_depth': 7}\n",
      "0.724276 (0.034273) with: {'max_depth': 9}\n",
      "0.709238 (0.035815) with: {'max_depth': 12}\n",
      "0.671635 (0.046419) with: {'max_depth': 15}\n",
      "0.622093 (0.041728) with: {'max_depth': 17}\n",
      "0.589703 (0.027334) with: {'max_depth': 25}\n"
     ]
    }
   ],
   "source": [
    "model = GradientBoostingClassifier(learning_rate=0.01, n_estimators=500)\n",
    "param_grid = dict(max_depth=np.array([3,5,7,9,12,15,17,25]))\n",
    "\n",
    "grid = GridSearchCV(estimator=model, param_grid=param_grid, scoring='roc_auc', cv=skf)\n",
    "grid_result = grid.fit(x_train, y_train)\n",
    "\n",
    "print(\"Best: %f using %s\" % (grid_result.best_score_, grid_result.best_params_))\n",
    "for params, mean_score, scores in grid_result.grid_scores_:\n",
    "    print(\"%f (%f) with: %r\" % (scores.mean(), scores.std(), params))"
   ]
  },
  {
   "cell_type": "code",
   "execution_count": 389,
   "metadata": {
    "collapsed": true
   },
   "outputs": [],
   "source": [
    "#grid_result is model tuneded\n",
    "\n",
    "y_pred = grid_result.predict_proba(x_test)\n",
    "\n",
    "yn = pd.DataFrame(y_test)\n",
    "yn['MORA_PRED'] = y_pred[:,1]\n",
    "pred_ord = yn.sort_values(['MORA_PRED'], ascending=True)\n",
    "rango_deciles = pd.qcut(pred_ord['MORA_PRED'], 10)\n",
    "grupos = yn.groupby(rango_deciles)['MORA60'].agg([sum, len, np.mean])"
   ]
  },
  {
   "cell_type": "code",
   "execution_count": 390,
   "metadata": {},
   "outputs": [
    {
     "data": {
      "text/html": [
       "<div>\n",
       "<style>\n",
       "    .dataframe thead tr:only-child th {\n",
       "        text-align: right;\n",
       "    }\n",
       "\n",
       "    .dataframe thead th {\n",
       "        text-align: left;\n",
       "    }\n",
       "\n",
       "    .dataframe tbody tr th {\n",
       "        vertical-align: top;\n",
       "    }\n",
       "</style>\n",
       "<table border=\"1\" class=\"dataframe\">\n",
       "  <thead>\n",
       "    <tr style=\"text-align: right;\">\n",
       "      <th></th>\n",
       "      <th>sum</th>\n",
       "      <th>len</th>\n",
       "      <th>mean</th>\n",
       "    </tr>\n",
       "    <tr>\n",
       "      <th>MORA_PRED</th>\n",
       "      <th></th>\n",
       "      <th></th>\n",
       "      <th></th>\n",
       "    </tr>\n",
       "  </thead>\n",
       "  <tbody>\n",
       "    <tr>\n",
       "      <th>(0.155, 0.43]</th>\n",
       "      <td>34</td>\n",
       "      <td>100</td>\n",
       "      <td>0.34</td>\n",
       "    </tr>\n",
       "    <tr>\n",
       "      <th>(0.43, 0.56]</th>\n",
       "      <td>42</td>\n",
       "      <td>100</td>\n",
       "      <td>0.42</td>\n",
       "    </tr>\n",
       "    <tr>\n",
       "      <th>(0.56, 0.648]</th>\n",
       "      <td>60</td>\n",
       "      <td>100</td>\n",
       "      <td>0.60</td>\n",
       "    </tr>\n",
       "    <tr>\n",
       "      <th>(0.648, 0.703]</th>\n",
       "      <td>66</td>\n",
       "      <td>100</td>\n",
       "      <td>0.66</td>\n",
       "    </tr>\n",
       "    <tr>\n",
       "      <th>(0.703, 0.753]</th>\n",
       "      <td>70</td>\n",
       "      <td>100</td>\n",
       "      <td>0.70</td>\n",
       "    </tr>\n",
       "    <tr>\n",
       "      <th>(0.753, 0.788]</th>\n",
       "      <td>76</td>\n",
       "      <td>100</td>\n",
       "      <td>0.76</td>\n",
       "    </tr>\n",
       "    <tr>\n",
       "      <th>(0.788, 0.817]</th>\n",
       "      <td>77</td>\n",
       "      <td>100</td>\n",
       "      <td>0.77</td>\n",
       "    </tr>\n",
       "    <tr>\n",
       "      <th>(0.817, 0.85]</th>\n",
       "      <td>83</td>\n",
       "      <td>100</td>\n",
       "      <td>0.83</td>\n",
       "    </tr>\n",
       "    <tr>\n",
       "      <th>(0.85, 0.882]</th>\n",
       "      <td>83</td>\n",
       "      <td>100</td>\n",
       "      <td>0.83</td>\n",
       "    </tr>\n",
       "    <tr>\n",
       "      <th>(0.882, 0.95]</th>\n",
       "      <td>88</td>\n",
       "      <td>100</td>\n",
       "      <td>0.88</td>\n",
       "    </tr>\n",
       "  </tbody>\n",
       "</table>\n",
       "</div>"
      ],
      "text/plain": [
       "                sum  len  mean\n",
       "MORA_PRED                     \n",
       "(0.155, 0.43]    34  100  0.34\n",
       "(0.43, 0.56]     42  100  0.42\n",
       "(0.56, 0.648]    60  100  0.60\n",
       "(0.648, 0.703]   66  100  0.66\n",
       "(0.703, 0.753]   70  100  0.70\n",
       "(0.753, 0.788]   76  100  0.76\n",
       "(0.788, 0.817]   77  100  0.77\n",
       "(0.817, 0.85]    83  100  0.83\n",
       "(0.85, 0.882]    83  100  0.83\n",
       "(0.882, 0.95]    88  100  0.88"
      ]
     },
     "execution_count": 390,
     "metadata": {},
     "output_type": "execute_result"
    }
   ],
   "source": [
    "grupos"
   ]
  },
  {
   "cell_type": "code",
   "execution_count": 391,
   "metadata": {},
   "outputs": [
    {
     "data": {
      "image/png": "[encoded data removed]",
      "text/plain": [
       "<matplotlib.figure.Figure at 0x139244e0>"
      ]
     },
     "metadata": {},
     "output_type": "display_data"
    }
   ],
   "source": [
    "def plot_lift(grupos):\n",
    "    my_colors = [(x/10.0, x/20.0, 0.4) for x in range(10)]\n",
    "    f, ax = plt.subplots(figsize=(8, 6))\n",
    "    grupos['mean'].groupby([grupos.index]).sum().plot(kind='bar', color=my_colors);\n",
    "    plt.ylabel('MORA RATE');\n",
    "    plt.title('LIFT CHART')\n",
    "\n",
    "    for tick in ax.get_xticklabels():\n",
    "            tick.set_rotation(-45)"
   ]
  },
  {
   "cell_type": "code",
   "execution_count": 133,
   "metadata": {
    "collapsed": true
   },
   "outputs": [],
   "source": [
    "#feature importances\n",
    "del model\n",
    "model = GradientBoostingClassifier(learning_rate=0.01, n_estimators=500, max_depth=3, random_state=42)\n",
    "gbm = model.fit(x_train, y_train)"
   ]
  },
  {
   "cell_type": "code",
   "execution_count": 134,
   "metadata": {},
   "outputs": [
    {
     "data": {
      "text/plain": [
       "array([  4.10979048e-05,   1.71877285e-03,   2.77197158e-03,\n",
       "         2.02356760e-02,   5.03308921e-02,   5.97047796e-02,\n",
       "         6.46134728e-02,   7.96497831e-02,   8.05211045e-02,\n",
       "         8.31253194e-02,   8.79105347e-02,   1.44371995e-01,\n",
       "         1.55775015e-01,   1.69229585e-01])"
      ]
     },
     "execution_count": 134,
     "metadata": {},
     "output_type": "execute_result"
    }
   ],
   "source": [
    "np.sort(gbm.feature_importances_)"
   ]
  },
  {
   "cell_type": "code",
   "execution_count": 135,
   "metadata": {
    "collapsed": true
   },
   "outputs": [],
   "source": [
    "my_c = [(float(x/20.), 0.4, float(x/14.)) for x in reversed((range(14)))]\n",
    "\n",
    "def plot_model_var_imp(model, x, y):\n",
    "    f, ax = plt.subplots()\n",
    "    imp = pd.DataFrame( \n",
    "        model.feature_importances_  , \n",
    "        columns = ['Importance'] , \n",
    "        index = x.columns \n",
    "    )\n",
    "    imp = imp.sort_values( ['Importance'], ascending = True)\n",
    "    imp[:].plot( kind = 'barh', figsize=(8,6), ax=ax, title='FEATURE IMPORTANCE', colors=my_c, legend=False);\n"
   ]
  },
  {
   "cell_type": "code",
   "execution_count": 136,
   "metadata": {},
   "outputs": [
    {
     "data": {
      "image/png": "[encoded data removed]",
      "text/plain": [
       "<matplotlib.figure.Figure at 0xec47860>"
      ]
     },
     "metadata": {},
     "output_type": "display_data"
    }
   ],
   "source": [
    "plot_model_var_imp(gbm, x_test, y_test)"
   ]
  },
  {
   "cell_type": "code",
   "execution_count": 137,
   "metadata": {
    "collapsed": true
   },
   "outputs": [],
   "source": [
    "y_pred = gbm.predict_proba(x_test)"
   ]
  },
  {
   "cell_type": "code",
   "execution_count": 144,
   "metadata": {
    "collapsed": true
   },
   "outputs": [],
   "source": [
    "del d_test\n",
    "d_test = pd.DataFrame(x_test)\n",
    "d_test['MORA60'] = y_test\n",
    "\n",
    "d_test['MORA_PRED'] = y_pred[:,1]\n",
    "pred_ord = d_test.sort_values(['MORA_PRED'], ascending=True)\n",
    "rango_deciles = pd.qcut(pred_ord['MORA_PRED'], 10)"
   ]
  },
  {
   "cell_type": "code",
   "execution_count": 155,
   "metadata": {
    "collapsed": true
   },
   "outputs": [],
   "source": [
    "def plot_lift(grupos, ylabel):\n",
    "    my_colors = [(x/10.0, x/20.0, 0.4) for x in range(10)]\n",
    "    f, ax = plt.subplots(figsize=(8, 6))\n",
    "    grupos['mean'].groupby([grupos.index]).sum().plot(kind='bar', color=my_colors);\n",
    "    plt.ylabel(ylabel);\n",
    "    plt.title('LIFT CHART')\n",
    "\n",
    "    for tick in ax.get_xticklabels():\n",
    "            tick.set_rotation(-45)"
   ]
  },
  {
   "cell_type": "code",
   "execution_count": 156,
   "metadata": {},
   "outputs": [
    {
     "data": {
      "image/png": "[encoded data removed]",
      "text/plain": [
       "<matplotlib.figure.Figure at 0x1033d780>"
      ]
     },
     "metadata": {},
     "output_type": "display_data"
    }
   ],
   "source": [
    "grupos = d_test.groupby(rango_deciles)['MAXANT'].agg([len, np.mean, sum])\n",
    "plot_lift(grupos,'MAXANT')"
   ]
  },
  {
   "cell_type": "code",
   "execution_count": 158,
   "metadata": {},
   "outputs": [
    {
     "data": {
      "image/png": "[encoded data removed]",
      "text/plain": [
       "<matplotlib.figure.Figure at 0xe223400>"
      ]
     },
     "metadata": {},
     "output_type": "display_data"
    }
   ],
   "source": [
    "grupos = d_test.groupby(rango_deciles)['INGREM'].agg([len, np.mean])\n",
    "plot_lift(grupos, 'INGREMEN')"
   ]
  },
  {
   "cell_type": "code",
   "execution_count": 160,
   "metadata": {},
   "outputs": [
    {
     "data": {
      "image/png": "[encoded data removed]",
      "text/plain": [
       "<matplotlib.figure.Figure at 0xe6e44a8>"
      ]
     },
     "metadata": {},
     "output_type": "display_data"
    }
   ],
   "source": [
    "grupos = d_test.groupby(rango_deciles)['MONTOLC'].agg([len, np.mean])\n",
    "plot_lift(grupos, 'MONTOLC')"
   ]
  },
  {
   "cell_type": "code",
   "execution_count": 161,
   "metadata": {},
   "outputs": [
    {
     "data": {
      "image/png": "[encoded data removed]",
      "text/plain": [
       "<matplotlib.figure.Figure at 0xd8207b8>"
      ]
     },
     "metadata": {},
     "output_type": "display_data"
    }
   ],
   "source": [
    "grupos = d_test.groupby(rango_deciles)['MONTOSD'].agg([len, np.mean])\n",
    "plot_lift(grupos, 'MONTOSD')"
   ]
  },
  {
   "cell_type": "code",
   "execution_count": 163,
   "metadata": {},
   "outputs": [
    {
     "data": {
      "image/png": "[encoded data removed]",
      "text/plain": [
       "<matplotlib.figure.Figure at 0x102df080>"
      ]
     },
     "metadata": {},
     "output_type": "display_data"
    }
   ],
   "source": [
    "grupos = d_test.groupby(rango_deciles)['NEDUCAT_PROFESIONAL'].agg([len, np.mean])\n",
    "plot_lift(grupos, 'NEDUCAT_PROFESIONAL')"
   ]
  },
  {
   "cell_type": "code",
   "execution_count": 165,
   "metadata": {},
   "outputs": [
    {
     "data": {
      "image/png": "[encoded data removed]",
      "text/plain": [
       "<matplotlib.figure.Figure at 0x11ea0c18>"
      ]
     },
     "metadata": {},
     "output_type": "display_data"
    }
   ],
   "source": [
    "grupos = d_test.groupby(rango_deciles)['ZONA_LIMA'].agg([len, np.mean])\n",
    "plot_lift(grupos, 'ZONA_LIMA')"
   ]
  }
 ],
 "metadata": {
  "kernelspec": {
   "display_name": "Python 2",
   "language": "python",
   "name": "python2"
  },
  "language_info": {
   "codemirror_mode": {
    "name": "ipython",
    "version": 2
   },
   "file_extension": ".py",
   "mimetype": "text/x-python",
   "name": "python",
   "nbconvert_exporter": "python",
   "pygments_lexer": "ipython2",
   "version": "2.7.13"
  }
 },
 "nbformat": 4,
 "nbformat_minor": 2
}

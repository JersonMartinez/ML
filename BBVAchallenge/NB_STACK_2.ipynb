{
 "cells": [
  {
   "cell_type": "code",
   "execution_count": 1,
   "metadata": {
    "collapsed": true
   },
   "outputs": [],
   "source": [
    "from IPython.core.interactiveshell import InteractiveShell\n",
    "InteractiveShell.ast_node_interactivity = \"all\"\n",
    "%matplotlib inline"
   ]
  },
  {
   "cell_type": "code",
   "execution_count": 2,
   "metadata": {
    "collapsed": true
   },
   "outputs": [],
   "source": [
    "import pandas as pd\n",
    "import numpy as np\n",
    "import warnings\n",
    "from matplotlib import pyplot as plt\n",
    "\n",
    "warnings.filterwarnings('ignore')"
   ]
  },
  {
   "cell_type": "code",
   "execution_count": 3,
   "metadata": {
    "collapsed": true
   },
   "outputs": [],
   "source": [
    "df_train = pd.read_excel('./data/train_clientes.xlsx', index_col='ID_CORRELATIVO')\n",
    "df_test = pd.read_excel('./data/test_clientes.xlsx', index_col='ID_CORRELATIVO')"
   ]
  },
  {
   "cell_type": "markdown",
   "metadata": {},
   "source": [
    "## Data Clientes"
   ]
  },
  {
   "cell_type": "code",
   "execution_count": 4,
   "metadata": {
    "collapsed": true
   },
   "outputs": [],
   "source": [
    "x_train = df_train.drop(['ATTRITION'], axis=1)\n",
    "y_train = df_train['ATTRITION']\n",
    "x_test = df_test"
   ]
  },
  {
   "cell_type": "code",
   "execution_count": 5,
   "metadata": {},
   "outputs": [
    {
     "name": "stdout",
     "output_type": "stream",
     "text": [
      "(100000, 51)\n"
     ]
    }
   ],
   "source": [
    "# Join train and test df to aplly feature engineering\n",
    "df = pd.concat([x_train, x_test])\n",
    "print df.shape"
   ]
  },
  {
   "cell_type": "code",
   "execution_count": 6,
   "metadata": {
    "collapsed": true,
    "scrolled": true
   },
   "outputs": [],
   "source": [
    "# Split columns by type\n",
    "num_cols = df.select_dtypes(exclude=['datetime', 'object']).columns.tolist()\n",
    "cat_cols = [col for col in df.columns if col not in num_cols]"
   ]
  },
  {
   "cell_type": "code",
   "execution_count": 7,
   "metadata": {
    "collapsed": true
   },
   "outputs": [],
   "source": [
    "dm1 = pd.get_dummies(df[cat_cols[0]], prefix='FLAG')\n",
    "dm2 = pd.get_dummies(df[cat_cols[1]], prefix='FLAG')\n",
    "dm3 = pd.get_dummies(df[cat_cols[2]], prefix='FLAG')\n",
    "dm4 = pd.get_dummies(df[cat_cols[3]], prefix='FLAG')\n",
    "\n",
    "df_ = pd.concat([df, dm1, dm2, dm3, dm4], axis=1)\n",
    "df_.drop(cat_cols, inplace=True, axis=1)"
   ]
  },
  {
   "cell_type": "code",
   "execution_count": 8,
   "metadata": {
    "collapsed": true
   },
   "outputs": [],
   "source": [
    "# Drop CODMES\n",
    "df_.drop('CODMES', inplace=True, axis=1)\n",
    "num_cols.remove('CODMES')"
   ]
  },
  {
   "cell_type": "code",
   "execution_count": 9,
   "metadata": {},
   "outputs": [
    {
     "data": {
      "text/plain": [
       "EDAD          7677\n",
       "ANTIGUEDAD    2508\n",
       "dtype: int64"
      ]
     },
     "execution_count": 9,
     "metadata": {},
     "output_type": "execute_result"
    }
   ],
   "source": [
    "df_.isnull().sum()[df_.isnull().sum()>0]"
   ]
  },
  {
   "cell_type": "code",
   "execution_count": 11,
   "metadata": {
    "collapsed": true
   },
   "outputs": [],
   "source": [
    "df_.fillna(-999, inplace=True)"
   ]
  },
  {
   "cell_type": "code",
   "execution_count": 10,
   "metadata": {
    "collapsed": true
   },
   "outputs": [],
   "source": [
    "x_train_ = df_.iloc[0:70000]\n",
    "x_test_ = df_.iloc[70000:]"
   ]
  },
  {
   "cell_type": "markdown",
   "metadata": {},
   "source": [
    "## Feature Selection"
   ]
  },
  {
   "cell_type": "code",
   "execution_count": 181,
   "metadata": {
    "scrolled": true
   },
   "outputs": [
    {
     "name": "stdout",
     "output_type": "stream",
     "text": [
      "[0]\tTest-logloss:0.687325\n",
      "Will train until Test-logloss hasn't improved in 10 rounds.\n",
      "[1]\tTest-logloss:0.681621\n",
      "[2]\tTest-logloss:0.676112\n",
      "[3]\tTest-logloss:0.67057\n",
      "[4]\tTest-logloss:0.66484\n",
      "[5]\tTest-logloss:0.659318\n",
      "[6]\tTest-logloss:0.653764\n",
      "[7]\tTest-logloss:0.648635\n",
      "[8]\tTest-logloss:0.64332\n",
      "[9]\tTest-logloss:0.638109\n",
      "[10]\tTest-logloss:0.633019\n",
      "[11]\tTest-logloss:0.627978\n",
      "[12]\tTest-logloss:0.623645\n",
      "[13]\tTest-logloss:0.618787\n",
      "[14]\tTest-logloss:0.61434\n",
      "[15]\tTest-logloss:0.609683\n",
      "[16]\tTest-logloss:0.605039\n",
      "[17]\tTest-logloss:0.600476\n",
      "[18]\tTest-logloss:0.596129\n",
      "[19]\tTest-logloss:0.592054\n",
      "[20]\tTest-logloss:0.587738\n",
      "[21]\tTest-logloss:0.583562\n",
      "[22]\tTest-logloss:0.579606\n",
      "[23]\tTest-logloss:0.576115\n",
      "[24]\tTest-logloss:0.572336\n",
      "[25]\tTest-logloss:0.568654\n",
      "[26]\tTest-logloss:0.565038\n",
      "[27]\tTest-logloss:0.561147\n",
      "[28]\tTest-logloss:0.557386\n",
      "[29]\tTest-logloss:0.553677\n",
      "[30]\tTest-logloss:0.549988\n",
      "[31]\tTest-logloss:0.546428\n",
      "[32]\tTest-logloss:0.543406\n",
      "[33]\tTest-logloss:0.539875\n",
      "[34]\tTest-logloss:0.536471\n",
      "[35]\tTest-logloss:0.533104\n",
      "[36]\tTest-logloss:0.530035\n",
      "[37]\tTest-logloss:0.527006\n",
      "[38]\tTest-logloss:0.523779\n",
      "[39]\tTest-logloss:0.520631\n",
      "[40]\tTest-logloss:0.517459\n",
      "[41]\tTest-logloss:0.514386\n",
      "[42]\tTest-logloss:0.511545\n",
      "[43]\tTest-logloss:0.508816\n",
      "[44]\tTest-logloss:0.505902\n",
      "[45]\tTest-logloss:0.503035\n",
      "[46]\tTest-logloss:0.500361\n",
      "[47]\tTest-logloss:0.497509\n",
      "[48]\tTest-logloss:0.494957\n",
      "[49]\tTest-logloss:0.492209\n",
      "[50]\tTest-logloss:0.489537\n",
      "[51]\tTest-logloss:0.486981\n",
      "[52]\tTest-logloss:0.484389\n",
      "[53]\tTest-logloss:0.481877\n",
      "[54]\tTest-logloss:0.479362\n",
      "[55]\tTest-logloss:0.476826\n",
      "[56]\tTest-logloss:0.47434\n",
      "[57]\tTest-logloss:0.4719\n",
      "[58]\tTest-logloss:0.469543\n",
      "[59]\tTest-logloss:0.467165\n",
      "[60]\tTest-logloss:0.464826\n",
      "[61]\tTest-logloss:0.462567\n",
      "[62]\tTest-logloss:0.460297\n",
      "[63]\tTest-logloss:0.458073\n",
      "[64]\tTest-logloss:0.455938\n",
      "[65]\tTest-logloss:0.454116\n",
      "[66]\tTest-logloss:0.451971\n",
      "[67]\tTest-logloss:0.449866\n",
      "[68]\tTest-logloss:0.447819\n",
      "[69]\tTest-logloss:0.445804\n",
      "[70]\tTest-logloss:0.443974\n",
      "[71]\tTest-logloss:0.442173\n",
      "[72]\tTest-logloss:0.440415\n",
      "[73]\tTest-logloss:0.438473\n",
      "[74]\tTest-logloss:0.436739\n",
      "[75]\tTest-logloss:0.434876\n",
      "[76]\tTest-logloss:0.43321\n",
      "[77]\tTest-logloss:0.431555\n",
      "[78]\tTest-logloss:0.429875\n",
      "[79]\tTest-logloss:0.428257\n",
      "[80]\tTest-logloss:0.426838\n",
      "[81]\tTest-logloss:0.425134\n",
      "[82]\tTest-logloss:0.423423\n",
      "[83]\tTest-logloss:0.421786\n",
      "[84]\tTest-logloss:0.420115\n",
      "[85]\tTest-logloss:0.418472\n",
      "[86]\tTest-logloss:0.416867\n",
      "[87]\tTest-logloss:0.415268\n",
      "[88]\tTest-logloss:0.413857\n",
      "[89]\tTest-logloss:0.412488\n",
      "[90]\tTest-logloss:0.410942\n",
      "[91]\tTest-logloss:0.409448\n",
      "[92]\tTest-logloss:0.407917\n",
      "[93]\tTest-logloss:0.40656\n",
      "[94]\tTest-logloss:0.405284\n",
      "[95]\tTest-logloss:0.403831\n",
      "[96]\tTest-logloss:0.402538\n",
      "[97]\tTest-logloss:0.401227\n",
      "[98]\tTest-logloss:0.400133\n",
      "[99]\tTest-logloss:0.398817\n",
      "[100]\tTest-logloss:0.397448\n",
      "[101]\tTest-logloss:0.396253\n",
      "[102]\tTest-logloss:0.394951\n",
      "[103]\tTest-logloss:0.393665\n",
      "[104]\tTest-logloss:0.392569\n",
      "[105]\tTest-logloss:0.391331\n",
      "[106]\tTest-logloss:0.39009\n",
      "[107]\tTest-logloss:0.388863\n",
      "[108]\tTest-logloss:0.387668\n",
      "[109]\tTest-logloss:0.386609\n",
      "[110]\tTest-logloss:0.385441\n",
      "[111]\tTest-logloss:0.384252\n",
      "[112]\tTest-logloss:0.383212\n",
      "[113]\tTest-logloss:0.38207\n",
      "[114]\tTest-logloss:0.381119\n",
      "[115]\tTest-logloss:0.380087\n",
      "[116]\tTest-logloss:0.378998\n",
      "[117]\tTest-logloss:0.378065\n",
      "[118]\tTest-logloss:0.376986\n",
      "[119]\tTest-logloss:0.376024\n",
      "[120]\tTest-logloss:0.375133\n",
      "[121]\tTest-logloss:0.374258\n",
      "[122]\tTest-logloss:0.37324\n",
      "[123]\tTest-logloss:0.372366\n",
      "[124]\tTest-logloss:0.371401\n",
      "[125]\tTest-logloss:0.370419\n",
      "[126]\tTest-logloss:0.369432\n",
      "[127]\tTest-logloss:0.368469\n",
      "[128]\tTest-logloss:0.36755\n",
      "[129]\tTest-logloss:0.366776\n",
      "[130]\tTest-logloss:0.365874\n",
      "[131]\tTest-logloss:0.365001\n",
      "[132]\tTest-logloss:0.364085\n",
      "[133]\tTest-logloss:0.363208\n",
      "[134]\tTest-logloss:0.362378\n",
      "[135]\tTest-logloss:0.361526\n",
      "[136]\tTest-logloss:0.360756\n",
      "[137]\tTest-logloss:0.359998\n",
      "[138]\tTest-logloss:0.359175\n",
      "[139]\tTest-logloss:0.358488\n",
      "[140]\tTest-logloss:0.357689\n",
      "[141]\tTest-logloss:0.357086\n",
      "[142]\tTest-logloss:0.356428\n",
      "[143]\tTest-logloss:0.355782\n",
      "[144]\tTest-logloss:0.355017\n",
      "[145]\tTest-logloss:0.354253\n",
      "[146]\tTest-logloss:0.353563\n",
      "[147]\tTest-logloss:0.352827\n",
      "[148]\tTest-logloss:0.352269\n",
      "[149]\tTest-logloss:0.35163\n",
      "[150]\tTest-logloss:0.350915\n",
      "[151]\tTest-logloss:0.350207\n",
      "[152]\tTest-logloss:0.349545\n",
      "[153]\tTest-logloss:0.348881\n",
      "[154]\tTest-logloss:0.348209\n",
      "[155]\tTest-logloss:0.347543\n",
      "[156]\tTest-logloss:0.346887\n",
      "[157]\tTest-logloss:0.34623\n",
      "[158]\tTest-logloss:0.345568\n",
      "[159]\tTest-logloss:0.345055\n",
      "[160]\tTest-logloss:0.344413\n",
      "[161]\tTest-logloss:0.343898\n",
      "[162]\tTest-logloss:0.343348\n",
      "[163]\tTest-logloss:0.342734\n",
      "[164]\tTest-logloss:0.342146\n",
      "[165]\tTest-logloss:0.341567\n",
      "[166]\tTest-logloss:0.341008\n",
      "[167]\tTest-logloss:0.340522\n",
      "[168]\tTest-logloss:0.34003\n",
      "[169]\tTest-logloss:0.33946\n",
      "[170]\tTest-logloss:0.338915\n",
      "[171]\tTest-logloss:0.338399\n",
      "[172]\tTest-logloss:0.337852\n",
      "[173]\tTest-logloss:0.337318\n",
      "[174]\tTest-logloss:0.336783\n",
      "[175]\tTest-logloss:0.336367\n",
      "[176]\tTest-logloss:0.335836\n",
      "[177]\tTest-logloss:0.33543\n",
      "[178]\tTest-logloss:0.334951\n",
      "[179]\tTest-logloss:0.334476\n",
      "[180]\tTest-logloss:0.333988\n",
      "[181]\tTest-logloss:0.33349\n",
      "[182]\tTest-logloss:0.33302\n",
      "[183]\tTest-logloss:0.332521\n",
      "[184]\tTest-logloss:0.332108\n",
      "[185]\tTest-logloss:0.331649\n",
      "[186]\tTest-logloss:0.331255\n",
      "[187]\tTest-logloss:0.330791\n",
      "[188]\tTest-logloss:0.330331\n",
      "[189]\tTest-logloss:0.329887\n",
      "[190]\tTest-logloss:0.329433\n",
      "[191]\tTest-logloss:0.329026\n",
      "[192]\tTest-logloss:0.328607\n",
      "[193]\tTest-logloss:0.328186\n",
      "[194]\tTest-logloss:0.327761\n",
      "[195]\tTest-logloss:0.327381\n",
      "[196]\tTest-logloss:0.32707\n",
      "[197]\tTest-logloss:0.32669\n",
      "[198]\tTest-logloss:0.326311\n",
      "[199]\tTest-logloss:0.325958\n",
      "[200]\tTest-logloss:0.325563\n",
      "[201]\tTest-logloss:0.325192\n",
      "[202]\tTest-logloss:0.324856\n",
      "[203]\tTest-logloss:0.324482\n",
      "[204]\tTest-logloss:0.3241\n",
      "[205]\tTest-logloss:0.323726\n",
      "[206]\tTest-logloss:0.323384\n",
      "[207]\tTest-logloss:0.323071\n",
      "[208]\tTest-logloss:0.322722\n",
      "[209]\tTest-logloss:0.322362\n",
      "[210]\tTest-logloss:0.322093\n",
      "[211]\tTest-logloss:0.321865\n",
      "[212]\tTest-logloss:0.321523\n",
      "[213]\tTest-logloss:0.321193\n",
      "[214]\tTest-logloss:0.32087\n",
      "[215]\tTest-logloss:0.320563\n",
      "[216]\tTest-logloss:0.320266\n",
      "[217]\tTest-logloss:0.319943\n",
      "[218]\tTest-logloss:0.319642\n",
      "[219]\tTest-logloss:0.319335\n",
      "[220]\tTest-logloss:0.319068\n",
      "[221]\tTest-logloss:0.318771\n",
      "[222]\tTest-logloss:0.3185\n",
      "[223]\tTest-logloss:0.318197\n",
      "[224]\tTest-logloss:0.317906\n",
      "[225]\tTest-logloss:0.317656\n",
      "[226]\tTest-logloss:0.317465\n",
      "[227]\tTest-logloss:0.317214\n",
      "[228]\tTest-logloss:0.316918\n",
      "[229]\tTest-logloss:0.316657\n",
      "[230]\tTest-logloss:0.316423\n",
      "[231]\tTest-logloss:0.316145\n",
      "[232]\tTest-logloss:0.315885\n",
      "[233]\tTest-logloss:0.315642\n",
      "[234]\tTest-logloss:0.315409\n",
      "[235]\tTest-logloss:0.315145\n",
      "[236]\tTest-logloss:0.314886\n",
      "[237]\tTest-logloss:0.314694\n",
      "[238]\tTest-logloss:0.314449\n",
      "[239]\tTest-logloss:0.314248\n",
      "[240]\tTest-logloss:0.314011\n",
      "[241]\tTest-logloss:0.313833\n",
      "[242]\tTest-logloss:0.313606\n",
      "[243]\tTest-logloss:0.313426\n",
      "[244]\tTest-logloss:0.313204\n",
      "[245]\tTest-logloss:0.31299\n",
      "[246]\tTest-logloss:0.312775\n",
      "[247]\tTest-logloss:0.312571\n",
      "[248]\tTest-logloss:0.312368\n",
      "[249]\tTest-logloss:0.312186\n",
      "[250]\tTest-logloss:0.311986\n",
      "[251]\tTest-logloss:0.311788\n",
      "[252]\tTest-logloss:0.311582\n",
      "[253]\tTest-logloss:0.311429\n",
      "[254]\tTest-logloss:0.311238\n",
      "[255]\tTest-logloss:0.311035\n",
      "[256]\tTest-logloss:0.310836\n",
      "[257]\tTest-logloss:0.310645\n",
      "[258]\tTest-logloss:0.310492\n",
      "[259]\tTest-logloss:0.310307\n",
      "[260]\tTest-logloss:0.310152\n",
      "[261]\tTest-logloss:0.309981\n",
      "[262]\tTest-logloss:0.309803\n",
      "[263]\tTest-logloss:0.309665\n",
      "[264]\tTest-logloss:0.309513\n",
      "[265]\tTest-logloss:0.309348\n",
      "[266]\tTest-logloss:0.309174\n",
      "[267]\tTest-logloss:0.30899\n",
      "[268]\tTest-logloss:0.308816\n",
      "[269]\tTest-logloss:0.308688\n",
      "[270]\tTest-logloss:0.308517\n",
      "[271]\tTest-logloss:0.308353\n",
      "[272]\tTest-logloss:0.308201\n",
      "[273]\tTest-logloss:0.308071\n",
      "[274]\tTest-logloss:0.307916\n",
      "[275]\tTest-logloss:0.307756\n",
      "[276]\tTest-logloss:0.307592\n",
      "[277]\tTest-logloss:0.307448\n",
      "[278]\tTest-logloss:0.307292\n",
      "[279]\tTest-logloss:0.307142\n",
      "[280]\tTest-logloss:0.306986\n",
      "[281]\tTest-logloss:0.306889\n",
      "[282]\tTest-logloss:0.306743\n",
      "[283]\tTest-logloss:0.306608\n",
      "[284]\tTest-logloss:0.306466\n",
      "[285]\tTest-logloss:0.306376\n",
      "[286]\tTest-logloss:0.306231\n",
      "[287]\tTest-logloss:0.306137\n",
      "[288]\tTest-logloss:0.306017\n",
      "[289]\tTest-logloss:0.305928\n",
      "[290]\tTest-logloss:0.305798\n",
      "[291]\tTest-logloss:0.305657\n",
      "[292]\tTest-logloss:0.305536\n",
      "[293]\tTest-logloss:0.305429\n",
      "[294]\tTest-logloss:0.305289\n",
      "[295]\tTest-logloss:0.305164\n"
     ]
    },
    {
     "name": "stdout",
     "output_type": "stream",
     "text": [
      "[296]\tTest-logloss:0.305041\n",
      "[297]\tTest-logloss:0.304913\n",
      "[298]\tTest-logloss:0.304781\n",
      "[299]\tTest-logloss:0.304663\n",
      "[300]\tTest-logloss:0.304517\n",
      "[301]\tTest-logloss:0.304399\n",
      "[302]\tTest-logloss:0.304291\n",
      "[303]\tTest-logloss:0.304194\n",
      "[304]\tTest-logloss:0.304118\n",
      "[305]\tTest-logloss:0.303993\n",
      "[306]\tTest-logloss:0.30393\n",
      "[307]\tTest-logloss:0.303832\n",
      "[308]\tTest-logloss:0.303723\n",
      "[309]\tTest-logloss:0.303613\n",
      "[310]\tTest-logloss:0.303502\n",
      "[311]\tTest-logloss:0.303387\n",
      "[312]\tTest-logloss:0.303305\n",
      "[313]\tTest-logloss:0.303242\n",
      "[314]\tTest-logloss:0.303138\n",
      "[315]\tTest-logloss:0.303031\n",
      "[316]\tTest-logloss:0.302925\n",
      "[317]\tTest-logloss:0.302845\n",
      "[318]\tTest-logloss:0.302746\n",
      "[319]\tTest-logloss:0.302654\n",
      "[320]\tTest-logloss:0.302578\n",
      "[321]\tTest-logloss:0.302452\n",
      "[322]\tTest-logloss:0.30235\n",
      "[323]\tTest-logloss:0.30224\n",
      "[324]\tTest-logloss:0.30213\n",
      "[325]\tTest-logloss:0.302067\n",
      "[326]\tTest-logloss:0.301975\n",
      "[327]\tTest-logloss:0.30188\n",
      "[328]\tTest-logloss:0.301823\n",
      "[329]\tTest-logloss:0.301749\n",
      "[330]\tTest-logloss:0.301675\n",
      "[331]\tTest-logloss:0.301602\n",
      "[332]\tTest-logloss:0.301493\n",
      "[333]\tTest-logloss:0.301406\n",
      "[334]\tTest-logloss:0.301345\n",
      "[335]\tTest-logloss:0.30127\n",
      "[336]\tTest-logloss:0.301214\n",
      "[337]\tTest-logloss:0.301161\n",
      "[338]\tTest-logloss:0.301074\n",
      "[339]\tTest-logloss:0.300987\n",
      "[340]\tTest-logloss:0.300929\n",
      "[341]\tTest-logloss:0.300858\n",
      "[342]\tTest-logloss:0.300797\n",
      "[343]\tTest-logloss:0.300747\n",
      "[344]\tTest-logloss:0.300667\n",
      "[345]\tTest-logloss:0.300561\n",
      "[346]\tTest-logloss:0.300485\n",
      "[347]\tTest-logloss:0.300409\n",
      "[348]\tTest-logloss:0.300305\n",
      "[349]\tTest-logloss:0.300209\n",
      "[350]\tTest-logloss:0.300141\n",
      "[351]\tTest-logloss:0.300059\n",
      "[352]\tTest-logloss:0.300011\n",
      "[353]\tTest-logloss:0.299907\n",
      "[354]\tTest-logloss:0.299823\n",
      "[355]\tTest-logloss:0.299764\n",
      "[356]\tTest-logloss:0.29971\n",
      "[357]\tTest-logloss:0.299644\n",
      "[358]\tTest-logloss:0.299605\n",
      "[359]\tTest-logloss:0.299559\n",
      "[360]\tTest-logloss:0.299496\n",
      "[361]\tTest-logloss:0.299429\n",
      "[362]\tTest-logloss:0.299366\n",
      "[363]\tTest-logloss:0.299292\n",
      "[364]\tTest-logloss:0.299239\n",
      "[365]\tTest-logloss:0.299173\n",
      "[366]\tTest-logloss:0.29912\n",
      "[367]\tTest-logloss:0.299089\n",
      "[368]\tTest-logloss:0.29902\n",
      "[369]\tTest-logloss:0.29898\n",
      "[370]\tTest-logloss:0.298919\n",
      "[371]\tTest-logloss:0.298862\n",
      "[372]\tTest-logloss:0.298832\n",
      "[373]\tTest-logloss:0.298794\n",
      "[374]\tTest-logloss:0.298742\n",
      "[375]\tTest-logloss:0.298694\n",
      "[376]\tTest-logloss:0.298645\n",
      "[377]\tTest-logloss:0.298596\n",
      "[378]\tTest-logloss:0.298545\n",
      "[379]\tTest-logloss:0.298483\n",
      "[380]\tTest-logloss:0.298423\n",
      "[381]\tTest-logloss:0.298374\n",
      "[382]\tTest-logloss:0.29834\n",
      "[383]\tTest-logloss:0.298314\n",
      "[384]\tTest-logloss:0.298283\n",
      "[385]\tTest-logloss:0.298222\n",
      "[386]\tTest-logloss:0.298191\n",
      "[387]\tTest-logloss:0.298131\n",
      "[388]\tTest-logloss:0.298084\n",
      "[389]\tTest-logloss:0.298035\n",
      "[390]\tTest-logloss:0.298004\n",
      "[391]\tTest-logloss:0.297968\n",
      "[392]\tTest-logloss:0.297929\n",
      "[393]\tTest-logloss:0.297875\n",
      "[394]\tTest-logloss:0.297844\n",
      "[395]\tTest-logloss:0.297811\n",
      "[396]\tTest-logloss:0.297765\n",
      "[397]\tTest-logloss:0.297739\n",
      "[398]\tTest-logloss:0.297716\n",
      "[399]\tTest-logloss:0.297631\n",
      "[400]\tTest-logloss:0.297599\n",
      "[401]\tTest-logloss:0.297571\n",
      "[402]\tTest-logloss:0.297534\n",
      "[403]\tTest-logloss:0.297506\n",
      "[404]\tTest-logloss:0.297459\n",
      "[405]\tTest-logloss:0.297427\n",
      "[406]\tTest-logloss:0.2974\n",
      "[407]\tTest-logloss:0.297353\n",
      "[408]\tTest-logloss:0.297327\n",
      "[409]\tTest-logloss:0.297304\n",
      "[410]\tTest-logloss:0.297273\n",
      "[411]\tTest-logloss:0.297248\n",
      "[412]\tTest-logloss:0.297222\n",
      "[413]\tTest-logloss:0.297189\n",
      "[414]\tTest-logloss:0.29717\n",
      "[415]\tTest-logloss:0.29714\n",
      "[416]\tTest-logloss:0.297105\n",
      "[417]\tTest-logloss:0.297077\n",
      "[418]\tTest-logloss:0.297046\n",
      "[419]\tTest-logloss:0.297023\n",
      "[420]\tTest-logloss:0.296997\n",
      "[421]\tTest-logloss:0.29697\n",
      "[422]\tTest-logloss:0.296933\n",
      "[423]\tTest-logloss:0.296887\n",
      "[424]\tTest-logloss:0.296855\n",
      "[425]\tTest-logloss:0.296827\n",
      "[426]\tTest-logloss:0.296801\n",
      "[427]\tTest-logloss:0.296775\n",
      "[428]\tTest-logloss:0.296743\n",
      "[429]\tTest-logloss:0.296719\n",
      "[430]\tTest-logloss:0.296673\n",
      "[431]\tTest-logloss:0.296645\n",
      "[432]\tTest-logloss:0.296613\n",
      "[433]\tTest-logloss:0.296598\n",
      "[434]\tTest-logloss:0.296573\n",
      "[435]\tTest-logloss:0.296545\n",
      "[436]\tTest-logloss:0.296527\n",
      "[437]\tTest-logloss:0.296487\n",
      "[438]\tTest-logloss:0.296446\n",
      "[439]\tTest-logloss:0.296408\n",
      "[440]\tTest-logloss:0.296394\n",
      "[441]\tTest-logloss:0.296364\n",
      "[442]\tTest-logloss:0.296346\n",
      "[443]\tTest-logloss:0.296321\n",
      "[444]\tTest-logloss:0.296287\n",
      "[445]\tTest-logloss:0.296247\n",
      "[446]\tTest-logloss:0.29623\n",
      "[447]\tTest-logloss:0.296186\n",
      "[448]\tTest-logloss:0.29616\n",
      "[449]\tTest-logloss:0.296147\n",
      "[450]\tTest-logloss:0.296127\n",
      "[451]\tTest-logloss:0.296113\n",
      "[452]\tTest-logloss:0.296086\n",
      "[453]\tTest-logloss:0.296075\n",
      "[454]\tTest-logloss:0.296048\n",
      "[455]\tTest-logloss:0.296033\n",
      "[456]\tTest-logloss:0.296028\n",
      "[457]\tTest-logloss:0.296007\n",
      "[458]\tTest-logloss:0.295986\n",
      "[459]\tTest-logloss:0.295967\n",
      "[460]\tTest-logloss:0.295956\n",
      "[461]\tTest-logloss:0.29594\n",
      "[462]\tTest-logloss:0.295925\n",
      "[463]\tTest-logloss:0.295902\n",
      "[464]\tTest-logloss:0.295884\n",
      "[465]\tTest-logloss:0.295866\n",
      "[466]\tTest-logloss:0.295852\n",
      "[467]\tTest-logloss:0.295829\n",
      "[468]\tTest-logloss:0.295811\n",
      "[469]\tTest-logloss:0.295798\n",
      "[470]\tTest-logloss:0.295782\n",
      "[471]\tTest-logloss:0.295762\n",
      "[472]\tTest-logloss:0.29574\n",
      "[473]\tTest-logloss:0.295725\n",
      "[474]\tTest-logloss:0.295701\n",
      "[475]\tTest-logloss:0.295692\n",
      "[476]\tTest-logloss:0.295675\n",
      "[477]\tTest-logloss:0.295675\n",
      "[478]\tTest-logloss:0.295663\n",
      "[479]\tTest-logloss:0.295645\n",
      "[480]\tTest-logloss:0.295628\n",
      "[481]\tTest-logloss:0.29561\n",
      "[482]\tTest-logloss:0.2956\n",
      "[483]\tTest-logloss:0.295587\n",
      "[484]\tTest-logloss:0.295585\n",
      "[485]\tTest-logloss:0.29558\n",
      "[486]\tTest-logloss:0.295565\n",
      "[487]\tTest-logloss:0.295558\n",
      "[488]\tTest-logloss:0.295549\n",
      "[489]\tTest-logloss:0.295538\n",
      "[490]\tTest-logloss:0.295522\n",
      "[491]\tTest-logloss:0.295494\n",
      "[492]\tTest-logloss:0.29548\n",
      "[493]\tTest-logloss:0.295467\n",
      "[494]\tTest-logloss:0.295456\n",
      "[495]\tTest-logloss:0.295444\n",
      "[496]\tTest-logloss:0.295435\n",
      "[497]\tTest-logloss:0.295433\n",
      "[498]\tTest-logloss:0.295421\n",
      "[499]\tTest-logloss:0.29542\n",
      "[500]\tTest-logloss:0.2954\n",
      "[501]\tTest-logloss:0.295382\n",
      "[502]\tTest-logloss:0.295369\n",
      "[503]\tTest-logloss:0.29536\n",
      "[504]\tTest-logloss:0.295351\n",
      "[505]\tTest-logloss:0.295338\n",
      "[506]\tTest-logloss:0.295305\n",
      "[507]\tTest-logloss:0.29529\n",
      "[508]\tTest-logloss:0.295279\n",
      "[509]\tTest-logloss:0.29526\n",
      "[510]\tTest-logloss:0.295251\n",
      "[511]\tTest-logloss:0.295247\n",
      "[512]\tTest-logloss:0.295231\n",
      "[513]\tTest-logloss:0.295221\n",
      "[514]\tTest-logloss:0.295212\n",
      "[515]\tTest-logloss:0.295213\n",
      "[516]\tTest-logloss:0.295211\n",
      "[517]\tTest-logloss:0.29519\n",
      "[518]\tTest-logloss:0.295174\n",
      "[519]\tTest-logloss:0.295168\n",
      "[520]\tTest-logloss:0.295157\n",
      "[521]\tTest-logloss:0.295149\n",
      "[522]\tTest-logloss:0.295143\n",
      "[523]\tTest-logloss:0.295131\n",
      "[524]\tTest-logloss:0.295112\n",
      "[525]\tTest-logloss:0.295108\n",
      "[526]\tTest-logloss:0.295102\n",
      "[527]\tTest-logloss:0.295091\n",
      "[528]\tTest-logloss:0.29508\n",
      "[529]\tTest-logloss:0.29508\n",
      "[530]\tTest-logloss:0.295073\n",
      "[531]\tTest-logloss:0.295063\n",
      "[532]\tTest-logloss:0.295046\n",
      "[533]\tTest-logloss:0.29504\n",
      "[534]\tTest-logloss:0.295039\n",
      "[535]\tTest-logloss:0.295026\n",
      "[536]\tTest-logloss:0.295019\n",
      "[537]\tTest-logloss:0.295014\n",
      "[538]\tTest-logloss:0.295014\n",
      "[539]\tTest-logloss:0.294993\n",
      "[540]\tTest-logloss:0.294994\n",
      "[541]\tTest-logloss:0.294983\n",
      "[542]\tTest-logloss:0.294974\n",
      "[543]\tTest-logloss:0.29497\n",
      "[544]\tTest-logloss:0.29497\n",
      "[545]\tTest-logloss:0.294969\n",
      "[546]\tTest-logloss:0.294948\n",
      "[547]\tTest-logloss:0.294951\n",
      "[548]\tTest-logloss:0.294942\n",
      "[549]\tTest-logloss:0.294937\n",
      "[550]\tTest-logloss:0.294934\n",
      "[551]\tTest-logloss:0.294933\n",
      "[552]\tTest-logloss:0.294926\n",
      "[553]\tTest-logloss:0.294917\n",
      "[554]\tTest-logloss:0.294924\n",
      "[555]\tTest-logloss:0.294922\n",
      "[556]\tTest-logloss:0.294916\n",
      "[557]\tTest-logloss:0.294913\n",
      "[558]\tTest-logloss:0.294909\n",
      "[559]\tTest-logloss:0.294893\n",
      "[560]\tTest-logloss:0.294906\n",
      "[561]\tTest-logloss:0.294897\n",
      "[562]\tTest-logloss:0.294892\n",
      "[563]\tTest-logloss:0.294886\n",
      "[564]\tTest-logloss:0.294888\n",
      "[565]\tTest-logloss:0.294885\n",
      "[566]\tTest-logloss:0.294874\n",
      "[567]\tTest-logloss:0.294863\n",
      "[568]\tTest-logloss:0.294864\n",
      "[569]\tTest-logloss:0.294853\n",
      "[570]\tTest-logloss:0.294845\n",
      "[571]\tTest-logloss:0.294823\n",
      "[572]\tTest-logloss:0.294821\n",
      "[573]\tTest-logloss:0.294816\n",
      "[574]\tTest-logloss:0.294801\n",
      "[575]\tTest-logloss:0.294793\n",
      "[576]\tTest-logloss:0.294788\n",
      "[577]\tTest-logloss:0.294767\n",
      "[578]\tTest-logloss:0.294757\n",
      "[579]\tTest-logloss:0.294744\n",
      "[580]\tTest-logloss:0.294728\n",
      "[581]\tTest-logloss:0.294708\n",
      "[582]\tTest-logloss:0.294709\n",
      "[583]\tTest-logloss:0.294707\n",
      "[584]\tTest-logloss:0.294695\n",
      "[585]\tTest-logloss:0.294685\n",
      "[586]\tTest-logloss:0.294684\n",
      "[587]\tTest-logloss:0.294679\n",
      "[588]\tTest-logloss:0.294684\n",
      "[589]\tTest-logloss:0.294671\n"
     ]
    },
    {
     "name": "stdout",
     "output_type": "stream",
     "text": [
      "[590]\tTest-logloss:0.294666\n",
      "[591]\tTest-logloss:0.294663\n",
      "[592]\tTest-logloss:0.294658\n",
      "[593]\tTest-logloss:0.294651\n",
      "[594]\tTest-logloss:0.294633\n",
      "[595]\tTest-logloss:0.294634\n",
      "[596]\tTest-logloss:0.294628\n",
      "[597]\tTest-logloss:0.294621\n",
      "[598]\tTest-logloss:0.294611\n",
      "[599]\tTest-logloss:0.294607\n",
      "[600]\tTest-logloss:0.294601\n",
      "[601]\tTest-logloss:0.294598\n",
      "[602]\tTest-logloss:0.294594\n",
      "[603]\tTest-logloss:0.294594\n",
      "[604]\tTest-logloss:0.294585\n",
      "[605]\tTest-logloss:0.294575\n",
      "[606]\tTest-logloss:0.294565\n",
      "[607]\tTest-logloss:0.294555\n",
      "[608]\tTest-logloss:0.294565\n",
      "[609]\tTest-logloss:0.29456\n",
      "[610]\tTest-logloss:0.294551\n",
      "[611]\tTest-logloss:0.294548\n",
      "[612]\tTest-logloss:0.294541\n",
      "[613]\tTest-logloss:0.294541\n",
      "[614]\tTest-logloss:0.294532\n",
      "[615]\tTest-logloss:0.294521\n",
      "[616]\tTest-logloss:0.294522\n",
      "[617]\tTest-logloss:0.294495\n",
      "[618]\tTest-logloss:0.294494\n",
      "[619]\tTest-logloss:0.294477\n",
      "[620]\tTest-logloss:0.29448\n",
      "[621]\tTest-logloss:0.29448\n",
      "[622]\tTest-logloss:0.294467\n",
      "[623]\tTest-logloss:0.294466\n",
      "[624]\tTest-logloss:0.294454\n",
      "[625]\tTest-logloss:0.294452\n",
      "[626]\tTest-logloss:0.294454\n",
      "[627]\tTest-logloss:0.294457\n",
      "[628]\tTest-logloss:0.29446\n",
      "[629]\tTest-logloss:0.294453\n",
      "[630]\tTest-logloss:0.294444\n",
      "[631]\tTest-logloss:0.294439\n",
      "[632]\tTest-logloss:0.294438\n",
      "[633]\tTest-logloss:0.294419\n",
      "[634]\tTest-logloss:0.294417\n",
      "[635]\tTest-logloss:0.294419\n",
      "[636]\tTest-logloss:0.29442\n",
      "[637]\tTest-logloss:0.294406\n",
      "[638]\tTest-logloss:0.294409\n",
      "[639]\tTest-logloss:0.29441\n",
      "[640]\tTest-logloss:0.294403\n",
      "[641]\tTest-logloss:0.294401\n",
      "[642]\tTest-logloss:0.294402\n",
      "[643]\tTest-logloss:0.294405\n",
      "[644]\tTest-logloss:0.294401\n",
      "[645]\tTest-logloss:0.294406\n",
      "[646]\tTest-logloss:0.294405\n",
      "[647]\tTest-logloss:0.294398\n",
      "[648]\tTest-logloss:0.294396\n",
      "[649]\tTest-logloss:0.29439\n",
      "[650]\tTest-logloss:0.29439\n",
      "[651]\tTest-logloss:0.294385\n",
      "[652]\tTest-logloss:0.294376\n",
      "[653]\tTest-logloss:0.29437\n",
      "[654]\tTest-logloss:0.294371\n",
      "[655]\tTest-logloss:0.294371\n",
      "[656]\tTest-logloss:0.294379\n",
      "[657]\tTest-logloss:0.294383\n",
      "[658]\tTest-logloss:0.294386\n",
      "[659]\tTest-logloss:0.294382\n",
      "[660]\tTest-logloss:0.294381\n",
      "[661]\tTest-logloss:0.294376\n",
      "[662]\tTest-logloss:0.294377\n",
      "[663]\tTest-logloss:0.294371\n",
      "Stopping. Best iteration:\n",
      "[653]\tTest-logloss:0.29437\n",
      "\n"
     ]
    }
   ],
   "source": [
    "import xgboost as xgb\n",
    "from xgboost import plot_importance\n",
    "from sklearn.model_selection import train_test_split\n",
    "\n",
    "xtrain, xtest, ytrain, ytest = train_test_split(x_train_, y_train, test_size=0.10, random_state=0)\n",
    "\n",
    "dtrain = xgb.DMatrix(xtrain, label=ytrain)\n",
    "dtest = xgb.DMatrix(xtest, label=ytest)\n",
    "\n",
    "\n",
    "params = {\n",
    "    'max_depth': 9,\n",
    "    'min_child_weight': 6,\n",
    "    'eta':.01,\n",
    "    'subsample': 1,\n",
    "    'colsample_bytree': 0.8,\n",
    "    'objective': 'binary:logistic',\n",
    "    'eval_metric':'logloss'\n",
    "}\n",
    "\n",
    "xgb_model = xgb.train(params, \n",
    "                      dtrain,\n",
    "                      num_boost_round=999, \n",
    "                      early_stopping_rounds=10,\n",
    "                      evals=[(dtest, \"Test\")])"
   ]
  },
  {
   "cell_type": "code",
   "execution_count": 150,
   "metadata": {},
   "outputs": [
    {
     "data": {
      "text/plain": [
       "<matplotlib.axes._subplots.AxesSubplot at 0x1a0529b0>"
      ]
     },
     "execution_count": 150,
     "metadata": {},
     "output_type": "execute_result"
    },
    {
     "data": {
      "image/png": "[encoded data removed]",
      "text/plain": [
       "<matplotlib.figure.Figure at 0x7e47d748>"
      ]
     },
     "metadata": {},
     "output_type": "display_data"
    }
   ],
   "source": [
    "fig, axs = plt.subplots(figsize=(12,10))\n",
    "plot_importance(xgb_model, ax=axs)"
   ]
  },
  {
   "cell_type": "code",
   "execution_count": 151,
   "metadata": {
    "collapsed": true
   },
   "outputs": [],
   "source": [
    "xgb_feats = xgb_model.get_score().keys()\n",
    "xgb_import = xgb_model.get_score().values()\n",
    "\n",
    "xgb_importances = pd.DataFrame({'Features': xgb_feats, 'Importances': xgb_import})\n",
    "xgb_importances.sort_values(by='Importances', ascending=False, inplace=True)"
   ]
  },
  {
   "cell_type": "code",
   "execution_count": 190,
   "metadata": {
    "collapsed": true
   },
   "outputs": [
    {
     "name": "stdout",
     "output_type": "stream",
     "text": [
      "# Feats: 77\n",
      "Will train until Test-logloss hasn't improved in 10 rounds.\n"
     ]
    },
    {
     "ename": "KeyboardInterrupt",
     "evalue": "",
     "output_type": "error",
     "traceback": [
      "\u001b[1;31m---------------------------------------------------------------------------\u001b[0m",
      "\u001b[1;31mKeyboardInterrupt\u001b[0m                         Traceback (most recent call last)",
      "\u001b[1;32m<ipython-input-190-7df33f1697d6>\u001b[0m in \u001b[0;36m<module>\u001b[1;34m()\u001b[0m\n\u001b[0;32m     12\u001b[0m                           \u001b[0mearly_stopping_rounds\u001b[0m\u001b[1;33m=\u001b[0m\u001b[1;36m10\u001b[0m\u001b[1;33m,\u001b[0m\u001b[1;33m\u001b[0m\u001b[0m\n\u001b[0;32m     13\u001b[0m                           \u001b[0mevals\u001b[0m\u001b[1;33m=\u001b[0m\u001b[1;33m[\u001b[0m\u001b[1;33m(\u001b[0m\u001b[0mdtest\u001b[0m\u001b[1;33m,\u001b[0m \u001b[1;34m\"Test\"\u001b[0m\u001b[1;33m)\u001b[0m\u001b[1;33m]\u001b[0m\u001b[1;33m,\u001b[0m\u001b[1;33m\u001b[0m\u001b[0m\n\u001b[1;32m---> 14\u001b[1;33m                           verbose_eval='False')\n\u001b[0m\u001b[0;32m     15\u001b[0m \u001b[1;33m\u001b[0m\u001b[0m\n\u001b[0;32m     16\u001b[0m     \u001b[0mloglist\u001b[0m\u001b[1;33m.\u001b[0m\u001b[0mappend\u001b[0m\u001b[1;33m(\u001b[0m\u001b[0mxgb_model2\u001b[0m\u001b[1;33m.\u001b[0m\u001b[0mbest_score\u001b[0m\u001b[1;33m)\u001b[0m\u001b[1;33m\u001b[0m\u001b[0m\n",
      "\u001b[1;32mC:\\Users\\JERSON\\Anaconda2\\lib\\site-packages\\xgboost\\training.pyc\u001b[0m in \u001b[0;36mtrain\u001b[1;34m(params, dtrain, num_boost_round, evals, obj, feval, maximize, early_stopping_rounds, evals_result, verbose_eval, learning_rates, xgb_model, callbacks)\u001b[0m\n\u001b[0;32m    203\u001b[0m                            \u001b[0mevals\u001b[0m\u001b[1;33m=\u001b[0m\u001b[0mevals\u001b[0m\u001b[1;33m,\u001b[0m\u001b[1;33m\u001b[0m\u001b[0m\n\u001b[0;32m    204\u001b[0m                            \u001b[0mobj\u001b[0m\u001b[1;33m=\u001b[0m\u001b[0mobj\u001b[0m\u001b[1;33m,\u001b[0m \u001b[0mfeval\u001b[0m\u001b[1;33m=\u001b[0m\u001b[0mfeval\u001b[0m\u001b[1;33m,\u001b[0m\u001b[1;33m\u001b[0m\u001b[0m\n\u001b[1;32m--> 205\u001b[1;33m                            xgb_model=xgb_model, callbacks=callbacks)\n\u001b[0m\u001b[0;32m    206\u001b[0m \u001b[1;33m\u001b[0m\u001b[0m\n\u001b[0;32m    207\u001b[0m \u001b[1;33m\u001b[0m\u001b[0m\n",
      "\u001b[1;32mC:\\Users\\JERSON\\Anaconda2\\lib\\site-packages\\xgboost\\training.pyc\u001b[0m in \u001b[0;36m_train_internal\u001b[1;34m(params, dtrain, num_boost_round, evals, obj, feval, xgb_model, callbacks)\u001b[0m\n\u001b[0;32m     74\u001b[0m         \u001b[1;31m# Skip the first update if it is a recovery step.\u001b[0m\u001b[1;33m\u001b[0m\u001b[1;33m\u001b[0m\u001b[0m\n\u001b[0;32m     75\u001b[0m         \u001b[1;32mif\u001b[0m \u001b[0mversion\u001b[0m \u001b[1;33m%\u001b[0m \u001b[1;36m2\u001b[0m \u001b[1;33m==\u001b[0m \u001b[1;36m0\u001b[0m\u001b[1;33m:\u001b[0m\u001b[1;33m\u001b[0m\u001b[0m\n\u001b[1;32m---> 76\u001b[1;33m             \u001b[0mbst\u001b[0m\u001b[1;33m.\u001b[0m\u001b[0mupdate\u001b[0m\u001b[1;33m(\u001b[0m\u001b[0mdtrain\u001b[0m\u001b[1;33m,\u001b[0m \u001b[0mi\u001b[0m\u001b[1;33m,\u001b[0m \u001b[0mobj\u001b[0m\u001b[1;33m)\u001b[0m\u001b[1;33m\u001b[0m\u001b[0m\n\u001b[0m\u001b[0;32m     77\u001b[0m             \u001b[0mbst\u001b[0m\u001b[1;33m.\u001b[0m\u001b[0msave_rabit_checkpoint\u001b[0m\u001b[1;33m(\u001b[0m\u001b[1;33m)\u001b[0m\u001b[1;33m\u001b[0m\u001b[0m\n\u001b[0;32m     78\u001b[0m             \u001b[0mversion\u001b[0m \u001b[1;33m+=\u001b[0m \u001b[1;36m1\u001b[0m\u001b[1;33m\u001b[0m\u001b[0m\n",
      "\u001b[1;32mC:\\Users\\JERSON\\Anaconda2\\lib\\site-packages\\xgboost\\core.pyc\u001b[0m in \u001b[0;36mupdate\u001b[1;34m(self, dtrain, iteration, fobj)\u001b[0m\n\u001b[0;32m    804\u001b[0m \u001b[1;33m\u001b[0m\u001b[0m\n\u001b[0;32m    805\u001b[0m         \u001b[1;32mif\u001b[0m \u001b[0mfobj\u001b[0m \u001b[1;32mis\u001b[0m \u001b[0mNone\u001b[0m\u001b[1;33m:\u001b[0m\u001b[1;33m\u001b[0m\u001b[0m\n\u001b[1;32m--> 806\u001b[1;33m             \u001b[0m_check_call\u001b[0m\u001b[1;33m(\u001b[0m\u001b[0m_LIB\u001b[0m\u001b[1;33m.\u001b[0m\u001b[0mXGBoosterUpdateOneIter\u001b[0m\u001b[1;33m(\u001b[0m\u001b[0mself\u001b[0m\u001b[1;33m.\u001b[0m\u001b[0mhandle\u001b[0m\u001b[1;33m,\u001b[0m \u001b[0miteration\u001b[0m\u001b[1;33m,\u001b[0m \u001b[0mdtrain\u001b[0m\u001b[1;33m.\u001b[0m\u001b[0mhandle\u001b[0m\u001b[1;33m)\u001b[0m\u001b[1;33m)\u001b[0m\u001b[1;33m\u001b[0m\u001b[0m\n\u001b[0m\u001b[0;32m    807\u001b[0m         \u001b[1;32melse\u001b[0m\u001b[1;33m:\u001b[0m\u001b[1;33m\u001b[0m\u001b[0m\n\u001b[0;32m    808\u001b[0m             \u001b[0mpred\u001b[0m \u001b[1;33m=\u001b[0m \u001b[0mself\u001b[0m\u001b[1;33m.\u001b[0m\u001b[0mpredict\u001b[0m\u001b[1;33m(\u001b[0m\u001b[0mdtrain\u001b[0m\u001b[1;33m)\u001b[0m\u001b[1;33m\u001b[0m\u001b[0m\n",
      "\u001b[1;31mKeyboardInterrupt\u001b[0m: "
     ]
    }
   ],
   "source": [
    "loglist = []\n",
    "\n",
    "for i in reversed(range(67,78)):\n",
    "    print '# Feats: {}'.format(i)\n",
    "    beast_feats = xgb_importances['Features'][:i]\n",
    "    dtrain = xgb.DMatrix(xtrain[beast_feats], label=ytrain)\n",
    "    dtest = xgb.DMatrix(xtest[beast_feats], label=ytest)\n",
    "\n",
    "    xgb_model2 = xgb.train(params, \n",
    "                          dtrain,\n",
    "                          num_boost_round=999, \n",
    "                          early_stopping_rounds=10,\n",
    "                          evals=[(dtest, \"Test\")],\n",
    "                          verbose_eval='False')\n",
    "    \n",
    "    loglist.append(xgb_model2.best_score)\n",
    "\n",
    "print 'Best logloss: {}'.format(np.min(loglist))"
   ]
  },
  {
   "cell_type": "code",
   "execution_count": 191,
   "metadata": {
    "collapsed": true
   },
   "outputs": [
    {
     "name": "stdout",
     "output_type": "stream",
     "text": [
      "# Feats: 77\n"
     ]
    },
    {
     "ename": "KeyboardInterrupt",
     "evalue": "",
     "output_type": "error",
     "traceback": [
      "\u001b[1;31m---------------------------------------------------------------------------\u001b[0m",
      "\u001b[1;31mKeyboardInterrupt\u001b[0m                         Traceback (most recent call last)",
      "\u001b[1;32m<ipython-input-191-1edfeaecbdca>\u001b[0m in \u001b[0;36m<module>\u001b[1;34m()\u001b[0m\n\u001b[0;32m     12\u001b[0m         \u001b[0mearly_stopping_rounds\u001b[0m\u001b[1;33m=\u001b[0m\u001b[1;36m10\u001b[0m\u001b[1;33m,\u001b[0m\u001b[1;33m\u001b[0m\u001b[0m\n\u001b[0;32m     13\u001b[0m         \u001b[0mnfold\u001b[0m\u001b[1;33m=\u001b[0m\u001b[1;36m5\u001b[0m\u001b[1;33m,\u001b[0m\u001b[1;33m\u001b[0m\u001b[0m\n\u001b[1;32m---> 14\u001b[1;33m         \u001b[0mseed\u001b[0m\u001b[1;33m=\u001b[0m\u001b[1;36m1234\u001b[0m\u001b[1;33m\u001b[0m\u001b[0m\n\u001b[0m\u001b[0;32m     15\u001b[0m     )\n\u001b[0;32m     16\u001b[0m     \u001b[0mlog\u001b[0m \u001b[1;33m=\u001b[0m \u001b[0mcv_results\u001b[0m\u001b[1;33m[\u001b[0m\u001b[1;34m'test-logloss-mean'\u001b[0m\u001b[1;33m]\u001b[0m\u001b[1;33m.\u001b[0m\u001b[0mmin\u001b[0m\u001b[1;33m(\u001b[0m\u001b[1;33m)\u001b[0m\u001b[1;33m\u001b[0m\u001b[0m\n",
      "\u001b[1;32mC:\\Users\\JERSON\\Anaconda2\\lib\\site-packages\\xgboost\\training.pyc\u001b[0m in \u001b[0;36mcv\u001b[1;34m(params, dtrain, num_boost_round, nfold, stratified, folds, metrics, obj, feval, maximize, early_stopping_rounds, fpreproc, as_pandas, verbose_eval, show_stdv, seed, callbacks)\u001b[0m\n\u001b[0;32m    398\u001b[0m                            evaluation_result_list=None))\n\u001b[0;32m    399\u001b[0m         \u001b[1;32mfor\u001b[0m \u001b[0mfold\u001b[0m \u001b[1;32min\u001b[0m \u001b[0mcvfolds\u001b[0m\u001b[1;33m:\u001b[0m\u001b[1;33m\u001b[0m\u001b[0m\n\u001b[1;32m--> 400\u001b[1;33m             \u001b[0mfold\u001b[0m\u001b[1;33m.\u001b[0m\u001b[0mupdate\u001b[0m\u001b[1;33m(\u001b[0m\u001b[0mi\u001b[0m\u001b[1;33m,\u001b[0m \u001b[0mobj\u001b[0m\u001b[1;33m)\u001b[0m\u001b[1;33m\u001b[0m\u001b[0m\n\u001b[0m\u001b[0;32m    401\u001b[0m         \u001b[0mres\u001b[0m \u001b[1;33m=\u001b[0m \u001b[0maggcv\u001b[0m\u001b[1;33m(\u001b[0m\u001b[1;33m[\u001b[0m\u001b[0mf\u001b[0m\u001b[1;33m.\u001b[0m\u001b[0meval\u001b[0m\u001b[1;33m(\u001b[0m\u001b[0mi\u001b[0m\u001b[1;33m,\u001b[0m \u001b[0mfeval\u001b[0m\u001b[1;33m)\u001b[0m \u001b[1;32mfor\u001b[0m \u001b[0mf\u001b[0m \u001b[1;32min\u001b[0m \u001b[0mcvfolds\u001b[0m\u001b[1;33m]\u001b[0m\u001b[1;33m)\u001b[0m\u001b[1;33m\u001b[0m\u001b[0m\n\u001b[0;32m    402\u001b[0m \u001b[1;33m\u001b[0m\u001b[0m\n",
      "\u001b[1;32mC:\\Users\\JERSON\\Anaconda2\\lib\\site-packages\\xgboost\\training.pyc\u001b[0m in \u001b[0;36mupdate\u001b[1;34m(self, iteration, fobj)\u001b[0m\n\u001b[0;32m    217\u001b[0m     \u001b[1;32mdef\u001b[0m \u001b[0mupdate\u001b[0m\u001b[1;33m(\u001b[0m\u001b[0mself\u001b[0m\u001b[1;33m,\u001b[0m \u001b[0miteration\u001b[0m\u001b[1;33m,\u001b[0m \u001b[0mfobj\u001b[0m\u001b[1;33m)\u001b[0m\u001b[1;33m:\u001b[0m\u001b[1;33m\u001b[0m\u001b[0m\n\u001b[0;32m    218\u001b[0m         \u001b[1;34m\"\"\"\"Update the boosters for one iteration\"\"\"\u001b[0m\u001b[1;33m\u001b[0m\u001b[0m\n\u001b[1;32m--> 219\u001b[1;33m         \u001b[0mself\u001b[0m\u001b[1;33m.\u001b[0m\u001b[0mbst\u001b[0m\u001b[1;33m.\u001b[0m\u001b[0mupdate\u001b[0m\u001b[1;33m(\u001b[0m\u001b[0mself\u001b[0m\u001b[1;33m.\u001b[0m\u001b[0mdtrain\u001b[0m\u001b[1;33m,\u001b[0m \u001b[0miteration\u001b[0m\u001b[1;33m,\u001b[0m \u001b[0mfobj\u001b[0m\u001b[1;33m)\u001b[0m\u001b[1;33m\u001b[0m\u001b[0m\n\u001b[0m\u001b[0;32m    220\u001b[0m \u001b[1;33m\u001b[0m\u001b[0m\n\u001b[0;32m    221\u001b[0m     \u001b[1;32mdef\u001b[0m \u001b[0meval\u001b[0m\u001b[1;33m(\u001b[0m\u001b[0mself\u001b[0m\u001b[1;33m,\u001b[0m \u001b[0miteration\u001b[0m\u001b[1;33m,\u001b[0m \u001b[0mfeval\u001b[0m\u001b[1;33m)\u001b[0m\u001b[1;33m:\u001b[0m\u001b[1;33m\u001b[0m\u001b[0m\n",
      "\u001b[1;32mC:\\Users\\JERSON\\Anaconda2\\lib\\site-packages\\xgboost\\core.pyc\u001b[0m in \u001b[0;36mupdate\u001b[1;34m(self, dtrain, iteration, fobj)\u001b[0m\n\u001b[0;32m    804\u001b[0m \u001b[1;33m\u001b[0m\u001b[0m\n\u001b[0;32m    805\u001b[0m         \u001b[1;32mif\u001b[0m \u001b[0mfobj\u001b[0m \u001b[1;32mis\u001b[0m \u001b[0mNone\u001b[0m\u001b[1;33m:\u001b[0m\u001b[1;33m\u001b[0m\u001b[0m\n\u001b[1;32m--> 806\u001b[1;33m             \u001b[0m_check_call\u001b[0m\u001b[1;33m(\u001b[0m\u001b[0m_LIB\u001b[0m\u001b[1;33m.\u001b[0m\u001b[0mXGBoosterUpdateOneIter\u001b[0m\u001b[1;33m(\u001b[0m\u001b[0mself\u001b[0m\u001b[1;33m.\u001b[0m\u001b[0mhandle\u001b[0m\u001b[1;33m,\u001b[0m \u001b[0miteration\u001b[0m\u001b[1;33m,\u001b[0m \u001b[0mdtrain\u001b[0m\u001b[1;33m.\u001b[0m\u001b[0mhandle\u001b[0m\u001b[1;33m)\u001b[0m\u001b[1;33m)\u001b[0m\u001b[1;33m\u001b[0m\u001b[0m\n\u001b[0m\u001b[0;32m    807\u001b[0m         \u001b[1;32melse\u001b[0m\u001b[1;33m:\u001b[0m\u001b[1;33m\u001b[0m\u001b[0m\n\u001b[0;32m    808\u001b[0m             \u001b[0mpred\u001b[0m \u001b[1;33m=\u001b[0m \u001b[0mself\u001b[0m\u001b[1;33m.\u001b[0m\u001b[0mpredict\u001b[0m\u001b[1;33m(\u001b[0m\u001b[0mdtrain\u001b[0m\u001b[1;33m)\u001b[0m\u001b[1;33m\u001b[0m\u001b[0m\n",
      "\u001b[1;31mKeyboardInterrupt\u001b[0m: "
     ]
    }
   ],
   "source": [
    "test_log = []\n",
    "    \n",
    "for i in reversed(range(72,78)):\n",
    "    print '# Feats: {}'.format(i)\n",
    "    beast_feats = xgb_importances['Features'][:i]\n",
    "    dtrain = xgb.DMatrix(x_train_[beast_feats], label=y_train)\n",
    "    \n",
    "    cv_results = xgb.cv(\n",
    "        params,\n",
    "        dtrain,\n",
    "        num_boost_round=1000,\n",
    "        early_stopping_rounds=10,\n",
    "        nfold=5,\n",
    "        seed=0\n",
    "    )\n",
    "    log = cv_results['test-logloss-mean'].min()\n",
    "    print 'test-logloss-mean: {}'.format(log)\n",
    "    test_log.append(log)\n",
    "\n",
    "print np.min(test_log)"
   ]
  },
  {
   "cell_type": "code",
   "execution_count": null,
   "metadata": {
    "collapsed": true
   },
   "outputs": [],
   "source": []
  },
  {
   "cell_type": "code",
   "execution_count": null,
   "metadata": {
    "collapsed": true
   },
   "outputs": [],
   "source": []
  },
  {
   "cell_type": "markdown",
   "metadata": {},
   "source": [
    "## Modelado clientes"
   ]
  },
  {
   "cell_type": "code",
   "execution_count": 12,
   "metadata": {},
   "outputs": [],
   "source": [
    "from sklearn.cross_validation import StratifiedKFold\n",
    "from xgboost.sklearn import XGBClassifier\n",
    "from lightgbm import LGBMClassifier\n",
    "from catboost import CatBoostClassifier"
   ]
  },
  {
   "cell_type": "code",
   "execution_count": 14,
   "metadata": {
    "scrolled": true
   },
   "outputs": [
    {
     "name": "stdout",
     "output_type": "stream",
     "text": [
      "Creating train and test sets for blending.\n",
      "Model 0 : XGBClassifier(base_score=0.5, colsample_bylevel=1, colsample_bytree=0.6,\n",
      "       gamma=0, learning_rate=0.01, max_delta_step=0, max_depth=7,\n",
      "       min_child_weight=5, missing=None, n_estimators=1290, nthread=-1,\n",
      "       objective='binary:logistic', reg_alpha=1, reg_lambda=1,\n",
      "       scale_pos_weight=1, seed=1234, silent=True, subsample=0.9)\n",
      "Fold 0\n"
     ]
    },
    {
     "data": {
      "text/plain": [
       "XGBClassifier(base_score=0.5, colsample_bylevel=1, colsample_bytree=0.6,\n",
       "       gamma=0, learning_rate=0.01, max_delta_step=0, max_depth=7,\n",
       "       min_child_weight=5, missing=None, n_estimators=1290, nthread=-1,\n",
       "       objective='binary:logistic', reg_alpha=1, reg_lambda=1,\n",
       "       scale_pos_weight=1, seed=1234, silent=True, subsample=0.9)"
      ]
     },
     "execution_count": 14,
     "metadata": {},
     "output_type": "execute_result"
    },
    {
     "name": "stdout",
     "output_type": "stream",
     "text": [
      "Fold 1\n"
     ]
    },
    {
     "data": {
      "text/plain": [
       "XGBClassifier(base_score=0.5, colsample_bylevel=1, colsample_bytree=0.6,\n",
       "       gamma=0, learning_rate=0.01, max_delta_step=0, max_depth=7,\n",
       "       min_child_weight=5, missing=None, n_estimators=1290, nthread=-1,\n",
       "       objective='binary:logistic', reg_alpha=1, reg_lambda=1,\n",
       "       scale_pos_weight=1, seed=1234, silent=True, subsample=0.9)"
      ]
     },
     "execution_count": 14,
     "metadata": {},
     "output_type": "execute_result"
    },
    {
     "name": "stdout",
     "output_type": "stream",
     "text": [
      "Fold 2\n"
     ]
    },
    {
     "data": {
      "text/plain": [
       "XGBClassifier(base_score=0.5, colsample_bylevel=1, colsample_bytree=0.6,\n",
       "       gamma=0, learning_rate=0.01, max_delta_step=0, max_depth=7,\n",
       "       min_child_weight=5, missing=None, n_estimators=1290, nthread=-1,\n",
       "       objective='binary:logistic', reg_alpha=1, reg_lambda=1,\n",
       "       scale_pos_weight=1, seed=1234, silent=True, subsample=0.9)"
      ]
     },
     "execution_count": 14,
     "metadata": {},
     "output_type": "execute_result"
    },
    {
     "name": "stdout",
     "output_type": "stream",
     "text": [
      "Fold 3\n"
     ]
    },
    {
     "data": {
      "text/plain": [
       "XGBClassifier(base_score=0.5, colsample_bylevel=1, colsample_bytree=0.6,\n",
       "       gamma=0, learning_rate=0.01, max_delta_step=0, max_depth=7,\n",
       "       min_child_weight=5, missing=None, n_estimators=1290, nthread=-1,\n",
       "       objective='binary:logistic', reg_alpha=1, reg_lambda=1,\n",
       "       scale_pos_weight=1, seed=1234, silent=True, subsample=0.9)"
      ]
     },
     "execution_count": 14,
     "metadata": {},
     "output_type": "execute_result"
    },
    {
     "name": "stdout",
     "output_type": "stream",
     "text": [
      "Fold 4\n"
     ]
    },
    {
     "data": {
      "text/plain": [
       "XGBClassifier(base_score=0.5, colsample_bylevel=1, colsample_bytree=0.6,\n",
       "       gamma=0, learning_rate=0.01, max_delta_step=0, max_depth=7,\n",
       "       min_child_weight=5, missing=None, n_estimators=1290, nthread=-1,\n",
       "       objective='binary:logistic', reg_alpha=1, reg_lambda=1,\n",
       "       scale_pos_weight=1, seed=1234, silent=True, subsample=0.9)"
      ]
     },
     "execution_count": 14,
     "metadata": {},
     "output_type": "execute_result"
    },
    {
     "name": "stdout",
     "output_type": "stream",
     "text": [
      "Model 1 : <catboost.core.CatBoostClassifier object at 0x000000000BACA668>\n",
      "Fold 0\n"
     ]
    },
    {
     "data": {
      "text/plain": [
       "<catboost.core._CatBoostBase at 0xbaca668>"
      ]
     },
     "execution_count": 14,
     "metadata": {},
     "output_type": "execute_result"
    },
    {
     "name": "stdout",
     "output_type": "stream",
     "text": [
      "Fold 1\n"
     ]
    },
    {
     "data": {
      "text/plain": [
       "<catboost.core._CatBoostBase at 0xbaca668>"
      ]
     },
     "execution_count": 14,
     "metadata": {},
     "output_type": "execute_result"
    },
    {
     "name": "stdout",
     "output_type": "stream",
     "text": [
      "Fold 2\n"
     ]
    },
    {
     "data": {
      "text/plain": [
       "<catboost.core._CatBoostBase at 0xbaca668>"
      ]
     },
     "execution_count": 14,
     "metadata": {},
     "output_type": "execute_result"
    },
    {
     "name": "stdout",
     "output_type": "stream",
     "text": [
      "Fold 3\n"
     ]
    },
    {
     "data": {
      "text/plain": [
       "<catboost.core._CatBoostBase at 0xbaca668>"
      ]
     },
     "execution_count": 14,
     "metadata": {},
     "output_type": "execute_result"
    },
    {
     "name": "stdout",
     "output_type": "stream",
     "text": [
      "Fold 4\n"
     ]
    },
    {
     "data": {
      "text/plain": [
       "<catboost.core._CatBoostBase at 0xbaca668>"
      ]
     },
     "execution_count": 14,
     "metadata": {},
     "output_type": "execute_result"
    },
    {
     "name": "stdout",
     "output_type": "stream",
     "text": [
      "Model 2 : LGBMClassifier(boosting_type='gbdt', colsample_bytree=1.0, learning_rate=0.01,\n",
      "        max_bin=255, max_depth=-1, min_child_samples=20,\n",
      "        min_child_weight=0.001, min_split_gain=0.0, n_estimators=500,\n",
      "        n_jobs=-1, num_leaves=31, objective='binary', random_state=0,\n",
      "        reg_alpha=0.0, reg_lambda=0.0, silent=True, subsample=1.0,\n",
      "        subsample_for_bin=200000, subsample_freq=1)\n",
      "Fold 0\n"
     ]
    },
    {
     "data": {
      "text/plain": [
       "LGBMClassifier(boosting_type='gbdt', colsample_bytree=1.0, learning_rate=0.01,\n",
       "        max_bin=255, max_depth=-1, min_child_samples=20,\n",
       "        min_child_weight=0.001, min_split_gain=0.0, n_estimators=500,\n",
       "        n_jobs=-1, num_leaves=31, objective='binary', random_state=0,\n",
       "        reg_alpha=0.0, reg_lambda=0.0, silent=True, subsample=1.0,\n",
       "        subsample_for_bin=200000, subsample_freq=1)"
      ]
     },
     "execution_count": 14,
     "metadata": {},
     "output_type": "execute_result"
    },
    {
     "name": "stdout",
     "output_type": "stream",
     "text": [
      "Fold 1\n"
     ]
    },
    {
     "data": {
      "text/plain": [
       "LGBMClassifier(boosting_type='gbdt', colsample_bytree=1.0, learning_rate=0.01,\n",
       "        max_bin=255, max_depth=-1, min_child_samples=20,\n",
       "        min_child_weight=0.001, min_split_gain=0.0, n_estimators=500,\n",
       "        n_jobs=-1, num_leaves=31, objective='binary', random_state=0,\n",
       "        reg_alpha=0.0, reg_lambda=0.0, silent=True, subsample=1.0,\n",
       "        subsample_for_bin=200000, subsample_freq=1)"
      ]
     },
     "execution_count": 14,
     "metadata": {},
     "output_type": "execute_result"
    },
    {
     "name": "stdout",
     "output_type": "stream",
     "text": [
      "Fold 2\n"
     ]
    },
    {
     "data": {
      "text/plain": [
       "LGBMClassifier(boosting_type='gbdt', colsample_bytree=1.0, learning_rate=0.01,\n",
       "        max_bin=255, max_depth=-1, min_child_samples=20,\n",
       "        min_child_weight=0.001, min_split_gain=0.0, n_estimators=500,\n",
       "        n_jobs=-1, num_leaves=31, objective='binary', random_state=0,\n",
       "        reg_alpha=0.0, reg_lambda=0.0, silent=True, subsample=1.0,\n",
       "        subsample_for_bin=200000, subsample_freq=1)"
      ]
     },
     "execution_count": 14,
     "metadata": {},
     "output_type": "execute_result"
    },
    {
     "name": "stdout",
     "output_type": "stream",
     "text": [
      "Fold 3\n"
     ]
    },
    {
     "data": {
      "text/plain": [
       "LGBMClassifier(boosting_type='gbdt', colsample_bytree=1.0, learning_rate=0.01,\n",
       "        max_bin=255, max_depth=-1, min_child_samples=20,\n",
       "        min_child_weight=0.001, min_split_gain=0.0, n_estimators=500,\n",
       "        n_jobs=-1, num_leaves=31, objective='binary', random_state=0,\n",
       "        reg_alpha=0.0, reg_lambda=0.0, silent=True, subsample=1.0,\n",
       "        subsample_for_bin=200000, subsample_freq=1)"
      ]
     },
     "execution_count": 14,
     "metadata": {},
     "output_type": "execute_result"
    },
    {
     "name": "stdout",
     "output_type": "stream",
     "text": [
      "Fold 4\n"
     ]
    },
    {
     "data": {
      "text/plain": [
       "LGBMClassifier(boosting_type='gbdt', colsample_bytree=1.0, learning_rate=0.01,\n",
       "        max_bin=255, max_depth=-1, min_child_samples=20,\n",
       "        min_child_weight=0.001, min_split_gain=0.0, n_estimators=500,\n",
       "        n_jobs=-1, num_leaves=31, objective='binary', random_state=0,\n",
       "        reg_alpha=0.0, reg_lambda=0.0, silent=True, subsample=1.0,\n",
       "        subsample_for_bin=200000, subsample_freq=1)"
      ]
     },
     "execution_count": 14,
     "metadata": {},
     "output_type": "execute_result"
    }
   ],
   "source": [
    "# Add eval metric xgboost , catboost, lgbm\n",
    "\n",
    "X, y, X_submission = x_train_, y_train, x_test_\n",
    "\n",
    "clfs = [XGBClassifier(\n",
    "            learning_rate=0.01,\n",
    "            n_estimators=1290,\n",
    "            max_depth=7,\n",
    "            min_child_weight=5,\n",
    "            gamma=0,\n",
    "            subsample=0.9,\n",
    "            colsample_bytree=0.6,\n",
    "            reg_alpha=1,\n",
    "            objective='binary:logistic',\n",
    "            nthread=-1,\n",
    "            scale_pos_weight=1,\n",
    "            seed=1234\n",
    "        ),\n",
    "        CatBoostClassifier(verbose=False, learning_rate=0.01, depth=7, iterations=500, random_seed=0),\n",
    "        LGBMClassifier(objective='binary', learning_rate=0.01, n_estimators=500, random_state=0)\n",
    "]\n",
    "\n",
    "print \"Creating train and test sets for blending.\"\n",
    "\n",
    "dataset_blend_train = np.zeros((X.shape[0], len(clfs)))\n",
    "dataset_blend_test = np.zeros((X_submission.shape[0], len(clfs)))\n",
    "\n",
    "skf = StratifiedKFold(y, 5, random_state=0)\n",
    "\n",
    "for j, clf in enumerate(clfs):\n",
    "    print 'Model {0} : {1}'.format(j, clf)\n",
    "    dataset_blend_test_j = np.zeros((X_submission.shape[0], len(skf)))\n",
    "    for i, (train, test) in enumerate(skf):\n",
    "        print \"Fold\", i\n",
    "        X_train = X.iloc[train]\n",
    "        Y_train = y.iloc[train]\n",
    "        X_test = X.iloc[test]\n",
    "        Y_test = y.iloc[test]\n",
    "        if j == 0:\n",
    "            clf.fit(X_train, Y_train, eval_metric='logloss')\n",
    "            y_submission = clf.predict_proba(X_test)[:, 1]\n",
    "        elif j == 1:\n",
    "            clf.fit(X_train, Y_train, logging_level='Silent')\n",
    "            y_submission = clf.predict_proba(X_test)[:, 1]\n",
    "        else:\n",
    "            clf.fit(X_train, Y_train)\n",
    "            y_submission = clf.predict_proba(X_test)[:, 1]\n",
    "        dataset_blend_train[test, j] = y_submission\n",
    "        dataset_blend_test_j[:, i] = clf.predict_proba(X_submission)[:, 1]\n",
    "    dataset_blend_test[:, j] = dataset_blend_test_j.mean(1)"
   ]
  },
  {
   "cell_type": "code",
   "execution_count": 18,
   "metadata": {},
   "outputs": [
    {
     "data": {
      "text/plain": [
       "<matplotlib.axes._subplots.AxesSubplot at 0xe0cc550>"
      ]
     },
     "execution_count": 18,
     "metadata": {},
     "output_type": "execute_result"
    },
    {
     "data": {
      "image/png": "[encoded data removed]",
      "text/plain": [
       "<matplotlib.figure.Figure at 0xe0ded30>"
      ]
     },
     "metadata": {},
     "output_type": "display_data"
    }
   ],
   "source": [
    "import seaborn as sns\n",
    "basemodel_pred = pd.DataFrame(data=dataset_blend_train, columns=['XGB', 'CAT', 'LGB'])\n",
    "\n",
    "sns.heatmap(basemodel_pred.corr())"
   ]
  },
  {
   "cell_type": "code",
   "execution_count": 21,
   "metadata": {},
   "outputs": [
    {
     "data": {
      "text/plain": [
       "XGBClassifier(base_score=0.5, colsample_bylevel=1, colsample_bytree=0.6,\n",
       "       gamma=0.4, learning_rate=0.01, max_delta_step=0, max_depth=7,\n",
       "       min_child_weight=5, missing=None, n_estimators=500, nthread=-1,\n",
       "       objective='binary:logistic', reg_alpha=0, reg_lambda=1,\n",
       "       scale_pos_weight=1, seed=0, silent=True, subsample=0.9)"
      ]
     },
     "execution_count": 21,
     "metadata": {},
     "output_type": "execute_result"
    }
   ],
   "source": [
    "xgb_model = XGBClassifier(learning_rate=0.01, \n",
    "                          colsample_bytree=0.6,\n",
    "                          gamma=0.4,\n",
    "                          max_depth=7,\n",
    "                          min_child_weight=5,\n",
    "                          n_estimators=500, \n",
    "                          nthread=-1,\n",
    "                          objective='binary:logistic',\n",
    "                          seed=0,\n",
    "                          subsample=0.9)\n",
    "xgb_model.fit(dataset_blend_train, y, eval_metric='logloss')\n",
    "y_submission = xgb_model.predict_proba(dataset_blend_test)[:, 1]\n",
    "\n",
    "submission = pd.DataFrame()\n",
    "submission['ID_CORRELATIVO'] = X_submission.index\n",
    "submission['ATTRITION'] = y_submission\n",
    "\n",
    "submission.to_csv('./data/stack_sub_05.csv', index=False)"
   ]
  },
  {
   "cell_type": "code",
   "execution_count": null,
   "metadata": {
    "collapsed": true
   },
   "outputs": [],
   "source": [
    "# New Base learners\n",
    "\n",
    "xgb1 (rawx)\n",
    "xgb2 (feat cat vals)\n",
    "light\n",
    "cat\n",
    "(All must be uncorrelated models to improve the performance)"
   ]
  }
 ],
 "metadata": {
  "kernelspec": {
   "display_name": "Python 2",
   "language": "python",
   "name": "python2"
  },
  "language_info": {
   "codemirror_mode": {
    "name": "ipython",
    "version": 2
   },
   "file_extension": ".py",
   "mimetype": "text/x-python",
   "name": "python",
   "nbconvert_exporter": "python",
   "pygments_lexer": "ipython2",
   "version": "2.7.13"
  }
 },
 "nbformat": 4,
 "nbformat_minor": 2
}
